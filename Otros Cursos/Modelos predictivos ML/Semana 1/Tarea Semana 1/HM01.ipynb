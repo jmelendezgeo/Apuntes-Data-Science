{
 "cells": [
  {
   "cell_type": "markdown",
   "metadata": {},
   "source": [
    "¿Es posible predecir la prima del seguro de pacientes según sus características? En esta actividad responderás esta pregunta. Las variables de estudio son:\n",
    "\n",
    "Age: Edad del asegurado.\n",
    "\n",
    "BMI: Índice de masa corporal del asegurado.\n",
    "\n",
    "Children: Número de hijos que dependen del asegurado.\n",
    "\n",
    "Charges: Variable a predecir. Cantidad asegurada en dólares.\n",
    "\n",
    "Las instrucciones de la actividad son las siguientes:\n",
    "\n",
    "    1. Descargar la base de datos insurance_clean.csv (Este archivo debe de colocarse en la misma carpeta que el cuaderno que utilices).\n",
    "\n",
    "    2. Leer el conjunto de datos con la ayuda de la librería Pandas.\n",
    "\n",
    "    3. Separar el conjunto de datos en dos variables (\"X\" para la columna \"age\" y \"Y\" para la variable de \"charges\")\n",
    "\n",
    "    4. Separar las variables \"X\" y \"Y\" en conjuntos de entrenamiento y prueba, utilizando el método train_test_split de la librería sklearn.model_selection.\n",
    "\n",
    "    5. Construir un modelo de regresión lineal usando \"LinearRegresion\" de la librería sklearn.linear_model, utilizando en el eje de las \"x\" solamente la columna correspondiente a la variable \"age\", y en el eje de las \"y\" la variable \"charges\".\n",
    "\n",
    "    6. Evaluar el modelo con la métrica r2_score tanto en el conjunto de entrenamiento como en el de prueba.\n",
    "\n",
    "    7. Repetir los pasos 5 y 6 sustituyendo la variable \"age\" por \"BMI\" y escribe en tu libreta de Jupyter por qué no es una variable relevante para realizar una predicción acertada del costo del servicio médico.\n",
    "\n",
    "    8. Guardar todo el ejercicio hecho en tu libreta de Jupyter.\n",
    "\n",
    "    9. Guarda el archivo en una carpeta comprimida.\n",
    "\n",
    "    10. Comparte tu carpeta comprimida en la plataforma de edX."
   ]
  },
  {
   "cell_type": "markdown",
   "metadata": {},
   "source": [
    "El modelo consiste en obtener una prima (una prima) para el paciente del seguro según ciertas caracteristicas. Por lo tanto, entra en un problema de regresión."
   ]
  },
  {
   "cell_type": "code",
   "execution_count": 3,
   "metadata": {},
   "outputs": [],
   "source": [
    "import pandas as pd\n",
    "insurancedata = pd.read_csv(\"insurance_clean.csv\")"
   ]
  },
  {
   "cell_type": "code",
   "execution_count": 6,
   "metadata": {},
   "outputs": [
    {
     "data": {
      "text/html": [
       "<div>\n",
       "<style scoped>\n",
       "    .dataframe tbody tr th:only-of-type {\n",
       "        vertical-align: middle;\n",
       "    }\n",
       "\n",
       "    .dataframe tbody tr th {\n",
       "        vertical-align: top;\n",
       "    }\n",
       "\n",
       "    .dataframe thead th {\n",
       "        text-align: right;\n",
       "    }\n",
       "</style>\n",
       "<table border=\"1\" class=\"dataframe\">\n",
       "  <thead>\n",
       "    <tr style=\"text-align: right;\">\n",
       "      <th></th>\n",
       "      <th>Unnamed: 0</th>\n",
       "      <th>age</th>\n",
       "      <th>bmi</th>\n",
       "      <th>children</th>\n",
       "      <th>charges</th>\n",
       "    </tr>\n",
       "  </thead>\n",
       "  <tbody>\n",
       "    <tr>\n",
       "      <th>0</th>\n",
       "      <td>1</td>\n",
       "      <td>18</td>\n",
       "      <td>33.77</td>\n",
       "      <td>1</td>\n",
       "      <td>1725.5523</td>\n",
       "    </tr>\n",
       "    <tr>\n",
       "      <th>1</th>\n",
       "      <td>2</td>\n",
       "      <td>28</td>\n",
       "      <td>33.00</td>\n",
       "      <td>3</td>\n",
       "      <td>4449.4620</td>\n",
       "    </tr>\n",
       "    <tr>\n",
       "      <th>2</th>\n",
       "      <td>4</td>\n",
       "      <td>32</td>\n",
       "      <td>28.88</td>\n",
       "      <td>0</td>\n",
       "      <td>3866.8552</td>\n",
       "    </tr>\n",
       "    <tr>\n",
       "      <th>3</th>\n",
       "      <td>5</td>\n",
       "      <td>31</td>\n",
       "      <td>25.74</td>\n",
       "      <td>0</td>\n",
       "      <td>3756.6216</td>\n",
       "    </tr>\n",
       "    <tr>\n",
       "      <th>4</th>\n",
       "      <td>6</td>\n",
       "      <td>46</td>\n",
       "      <td>33.44</td>\n",
       "      <td>1</td>\n",
       "      <td>8240.5896</td>\n",
       "    </tr>\n",
       "  </tbody>\n",
       "</table>\n",
       "</div>"
      ],
      "text/plain": [
       "   Unnamed: 0  age    bmi  children    charges\n",
       "0           1   18  33.77         1  1725.5523\n",
       "1           2   28  33.00         3  4449.4620\n",
       "2           4   32  28.88         0  3866.8552\n",
       "3           5   31  25.74         0  3756.6216\n",
       "4           6   46  33.44         1  8240.5896"
      ]
     },
     "execution_count": 6,
     "metadata": {},
     "output_type": "execute_result"
    }
   ],
   "source": [
    "#Primero analizamos la data para tener una idea de nuestro dataset\n",
    "insurancedata.head() "
   ]
  },
  {
   "cell_type": "code",
   "execution_count": 5,
   "metadata": {},
   "outputs": [
    {
     "name": "stdout",
     "output_type": "stream",
     "text": [
      "<class 'pandas.core.frame.DataFrame'>\n",
      "RangeIndex: 712 entries, 0 to 711\n",
      "Data columns (total 5 columns):\n",
      "Unnamed: 0    712 non-null int64\n",
      "age           712 non-null int64\n",
      "bmi           712 non-null float64\n",
      "children      712 non-null int64\n",
      "charges       712 non-null float64\n",
      "dtypes: float64(2), int64(3)\n",
      "memory usage: 27.9 KB\n"
     ]
    }
   ],
   "source": [
    "insurancedata.info() "
   ]
  },
  {
   "cell_type": "code",
   "execution_count": 7,
   "metadata": {},
   "outputs": [
    {
     "data": {
      "text/html": [
       "<div>\n",
       "<style scoped>\n",
       "    .dataframe tbody tr th:only-of-type {\n",
       "        vertical-align: middle;\n",
       "    }\n",
       "\n",
       "    .dataframe tbody tr th {\n",
       "        vertical-align: top;\n",
       "    }\n",
       "\n",
       "    .dataframe thead th {\n",
       "        text-align: right;\n",
       "    }\n",
       "</style>\n",
       "<table border=\"1\" class=\"dataframe\">\n",
       "  <thead>\n",
       "    <tr style=\"text-align: right;\">\n",
       "      <th></th>\n",
       "      <th>Unnamed: 0</th>\n",
       "      <th>age</th>\n",
       "      <th>bmi</th>\n",
       "      <th>children</th>\n",
       "      <th>charges</th>\n",
       "    </tr>\n",
       "  </thead>\n",
       "  <tbody>\n",
       "    <tr>\n",
       "      <th>count</th>\n",
       "      <td>712.000000</td>\n",
       "      <td>712.000000</td>\n",
       "      <td>712.000000</td>\n",
       "      <td>712.000000</td>\n",
       "      <td>712.000000</td>\n",
       "    </tr>\n",
       "    <tr>\n",
       "      <th>mean</th>\n",
       "      <td>670.205056</td>\n",
       "      <td>33.091292</td>\n",
       "      <td>30.260351</td>\n",
       "      <td>1.075843</td>\n",
       "      <td>5207.231751</td>\n",
       "    </tr>\n",
       "    <tr>\n",
       "      <th>std</th>\n",
       "      <td>382.925911</td>\n",
       "      <td>10.516150</td>\n",
       "      <td>6.183319</td>\n",
       "      <td>1.175168</td>\n",
       "      <td>2586.608066</td>\n",
       "    </tr>\n",
       "    <tr>\n",
       "      <th>min</th>\n",
       "      <td>1.000000</td>\n",
       "      <td>18.000000</td>\n",
       "      <td>15.960000</td>\n",
       "      <td>0.000000</td>\n",
       "      <td>1121.873900</td>\n",
       "    </tr>\n",
       "    <tr>\n",
       "      <th>25%</th>\n",
       "      <td>348.750000</td>\n",
       "      <td>23.750000</td>\n",
       "      <td>25.885000</td>\n",
       "      <td>0.000000</td>\n",
       "      <td>2803.088087</td>\n",
       "    </tr>\n",
       "    <tr>\n",
       "      <th>50%</th>\n",
       "      <td>674.000000</td>\n",
       "      <td>33.000000</td>\n",
       "      <td>29.922500</td>\n",
       "      <td>1.000000</td>\n",
       "      <td>4933.176000</td>\n",
       "    </tr>\n",
       "    <tr>\n",
       "      <th>75%</th>\n",
       "      <td>990.250000</td>\n",
       "      <td>42.000000</td>\n",
       "      <td>34.128750</td>\n",
       "      <td>2.000000</td>\n",
       "      <td>7350.650413</td>\n",
       "    </tr>\n",
       "    <tr>\n",
       "      <th>max</th>\n",
       "      <td>1336.000000</td>\n",
       "      <td>54.000000</td>\n",
       "      <td>53.130000</td>\n",
       "      <td>5.000000</td>\n",
       "      <td>9991.037650</td>\n",
       "    </tr>\n",
       "  </tbody>\n",
       "</table>\n",
       "</div>"
      ],
      "text/plain": [
       "        Unnamed: 0         age         bmi    children      charges\n",
       "count   712.000000  712.000000  712.000000  712.000000   712.000000\n",
       "mean    670.205056   33.091292   30.260351    1.075843  5207.231751\n",
       "std     382.925911   10.516150    6.183319    1.175168  2586.608066\n",
       "min       1.000000   18.000000   15.960000    0.000000  1121.873900\n",
       "25%     348.750000   23.750000   25.885000    0.000000  2803.088087\n",
       "50%     674.000000   33.000000   29.922500    1.000000  4933.176000\n",
       "75%     990.250000   42.000000   34.128750    2.000000  7350.650413\n",
       "max    1336.000000   54.000000   53.130000    5.000000  9991.037650"
      ]
     },
     "execution_count": 7,
     "metadata": {},
     "output_type": "execute_result"
    }
   ],
   "source": [
    "insurancedata.describe() #No hay valores nulos para limpiar. Edad promedio 33 años, Charges promedio 5207. Valores de minimos, maximos y cuartiles"
   ]
  },
  {
   "cell_type": "markdown",
   "metadata": {},
   "source": [
    "Separamos nuestro dataset en las variables que vamos a utilizar. Las convertimos en arreglos de 1 columna"
   ]
  },
  {
   "cell_type": "code",
   "execution_count": 10,
   "metadata": {},
   "outputs": [],
   "source": [
    "X= insurancedata[\"age\"].values.reshape(-1,1)\n",
    "y= insurancedata[\"charges\"].values.reshape(-1,1)"
   ]
  },
  {
   "cell_type": "markdown",
   "metadata": {},
   "source": [
    "Separamos en un conjunto de entrenamiento y prueba"
   ]
  },
  {
   "cell_type": "code",
   "execution_count": 20,
   "metadata": {},
   "outputs": [],
   "source": [
    "from sklearn.model_selection import train_test_split\n",
    "X_train, X_test, y_train, y_test = train_test_split(X,y,test_size=0.20, random_state=100)"
   ]
  },
  {
   "cell_type": "code",
   "execution_count": 21,
   "metadata": {},
   "outputs": [
    {
     "name": "stdout",
     "output_type": "stream",
     "text": [
      "X:  (712, 1)\n",
      "X train:  (569, 1)\n",
      "X test:  (143, 1)\n"
     ]
    }
   ],
   "source": [
    "print(\"X: \", X.shape) #Vemos que con la distribucion del 80-20% (Train-Test) tenemos distribucion de registros de 569 train 143 test\n",
    "print(\"X train: \", X_train.shape)\n",
    "print(\"X test: \", X_test.shape)"
   ]
  },
  {
   "cell_type": "code",
   "execution_count": 25,
   "metadata": {},
   "outputs": [],
   "source": [
    "from sklearn.linear_model import LinearRegression\n",
    "#Entrenamos nuestro modelo\n",
    "reg = LinearRegression().fit(X_train,y_train)\n",
    "#Realizamos predicciones\n",
    "y_train_hat = reg.predict(X_train)\n",
    "y_test_hat = reg.predict(X_test)"
   ]
  },
  {
   "cell_type": "code",
   "execution_count": 40,
   "metadata": {},
   "outputs": [
    {
     "data": {
      "image/png": "[encoded data removed]",
      "text/plain": [
       "<Figure size 432x288 with 1 Axes>"
      ]
     },
     "metadata": {
      "needs_background": "light"
     },
     "output_type": "display_data"
    }
   ],
   "source": [
    "import matplotlib.pyplot as plt\n",
    "import numpy as np\n",
    "%matplotlib inline\n",
    "\n",
    "x_model= np.linspace(15,60,num=100)\n",
    "y_model= reg.predict(x_model.reshape(-1,1))\n",
    "plt.scatter(X_train, y_train, label= \"Entrenamiento\")\n",
    "plt.scatter(X_test, y_test, label= \"Prueba\")\n",
    "plt.plot(x_model, y_model, \"--r\", label= \"Modelo lineal\")\n",
    "plt.xlabel(\"Age\")\n",
    "plt.ylabel(\"Charge\")\n",
    "plt.legend(loc=\"lower right\")\n",
    "plt.show()"
   ]
  },
  {
   "cell_type": "code",
   "execution_count": 42,
   "metadata": {},
   "outputs": [
    {
     "name": "stdout",
     "output_type": "stream",
     "text": [
      "R2_train es: 0.915, R2_test es: 0.918\n"
     ]
    }
   ],
   "source": [
    "from sklearn.metrics import r2_score\n",
    "r2_train = r2_score(y_train,y_train_hat)\n",
    "r2_test = r2_score(y_test, y_test_hat)\n",
    "print(\"R2_train es: {:.3f}, R2_test es: {:.3f}\".format(r2_train, r2_test))"
   ]
  },
  {
   "cell_type": "code",
   "execution_count": null,
   "metadata": {},
   "outputs": [],
   "source": []
  }
 ],
 "metadata": {
  "kernelspec": {
   "display_name": "Python 3",
   "language": "python",
   "name": "python3"
  },
  "language_info": {
   "codemirror_mode": {
    "name": "ipython",
    "version": 3
   },
   "file_extension": ".py",
   "mimetype": "text/x-python",
   "name": "python",
   "nbconvert_exporter": "python",
   "pygments_lexer": "ipython3",
   "version": "3.7.1"
  }
 },
 "nbformat": 4,
 "nbformat_minor": 2
}
