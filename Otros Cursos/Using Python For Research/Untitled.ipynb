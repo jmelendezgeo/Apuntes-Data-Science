{
 "cells": [
  {
   "cell_type": "code",
   "execution_count": 3,
   "metadata": {},
   "outputs": [],
   "source": [
    "import numpy as np\n",
    "\n",
    "def create_board():\n",
    "    \"\"\"creates 3 x3 numpy array\"\"\"\n",
    "    board=np.zeros((3,3))\n",
    "    return(board)\n",
    "\n"
   ]
  },
  {
   "cell_type": "code",
   "execution_count": 4,
   "metadata": {},
   "outputs": [],
   "source": [
    "def random_place(board,player):\n",
    "    \"\"\" places a marker for the current player (1 or 2) at random among all positions with value 0 in board \"\"\"\n",
    "    import random\n",
    "    selection=possibilities(board)\n",
    "    position=random.choice(selection)\n",
    "    board=place(board,player,position)\n",
    "    return(board)"
   ]
  },
  {
   "cell_type": "code",
   "execution_count": 11,
   "metadata": {},
   "outputs": [],
   "source": [
    "def random_place(board,player):\n",
    "    \"\"\" places a marker for the current player (1 or 2) at random among all positions with value 0 in board \"\"\"\n",
    "    import random\n",
    "    selection=possibilities(board)\n",
    "    position=random.choice(selection)\n",
    "    board=place(board,player,position)\n",
    "    return(board)\n",
    "x"
   ]
  },
  {
   "cell_type": "code",
   "execution_count": 12,
   "metadata": {},
   "outputs": [],
   "source": [
    "import numpy as np\n",
    "\n",
    "def create_board():\n",
    "    \"\"\"creates 3 x3 numpy array\"\"\"\n",
    "    board=np.zeros((3,3))\n",
    "    return(board)"
   ]
  },
  {
   "cell_type": "code",
   "execution_count": 15,
   "metadata": {},
   "outputs": [],
   "source": [
    "x=create_board()"
   ]
  },
  {
   "cell_type": "code",
   "execution_count": 16,
   "metadata": {},
   "outputs": [
    {
     "ename": "NameError",
     "evalue": "name 'possibilities' is not defined",
     "output_type": "error",
     "traceback": [
      "\u001b[0;31m---------------------------------------------------------------------------\u001b[0m",
      "\u001b[0;31mNameError\u001b[0m                                 Traceback (most recent call last)",
      "\u001b[0;32m<ipython-input-16-69e9098cdceb>\u001b[0m in \u001b[0;36m<module>\u001b[0;34m\u001b[0m\n\u001b[0;32m----> 1\u001b[0;31m \u001b[0mrandom_place\u001b[0m\u001b[0;34m(\u001b[0m\u001b[0mx\u001b[0m\u001b[0;34m,\u001b[0m\u001b[0;36m1\u001b[0m\u001b[0;34m)\u001b[0m\u001b[0;34m\u001b[0m\u001b[0;34m\u001b[0m\u001b[0m\n\u001b[0m",
      "\u001b[0;32m<ipython-input-11-99e1d0c31017>\u001b[0m in \u001b[0;36mrandom_place\u001b[0;34m(board, player)\u001b[0m\n\u001b[1;32m      2\u001b[0m     \u001b[0;34m\"\"\" places a marker for the current player (1 or 2) at random among all positions with value 0 in board \"\"\"\u001b[0m\u001b[0;34m\u001b[0m\u001b[0;34m\u001b[0m\u001b[0m\n\u001b[1;32m      3\u001b[0m     \u001b[0;32mimport\u001b[0m \u001b[0mrandom\u001b[0m\u001b[0;34m\u001b[0m\u001b[0;34m\u001b[0m\u001b[0m\n\u001b[0;32m----> 4\u001b[0;31m     \u001b[0mselection\u001b[0m\u001b[0;34m=\u001b[0m\u001b[0mpossibilities\u001b[0m\u001b[0;34m(\u001b[0m\u001b[0mboard\u001b[0m\u001b[0;34m)\u001b[0m\u001b[0;34m\u001b[0m\u001b[0;34m\u001b[0m\u001b[0m\n\u001b[0m\u001b[1;32m      5\u001b[0m     \u001b[0mposition\u001b[0m\u001b[0;34m=\u001b[0m\u001b[0mrandom\u001b[0m\u001b[0;34m.\u001b[0m\u001b[0mchoice\u001b[0m\u001b[0;34m(\u001b[0m\u001b[0mselection\u001b[0m\u001b[0;34m)\u001b[0m\u001b[0;34m\u001b[0m\u001b[0;34m\u001b[0m\u001b[0m\n\u001b[1;32m      6\u001b[0m     \u001b[0mboard\u001b[0m\u001b[0;34m=\u001b[0m\u001b[0mplace\u001b[0m\u001b[0;34m(\u001b[0m\u001b[0mboard\u001b[0m\u001b[0;34m,\u001b[0m\u001b[0mplayer\u001b[0m\u001b[0;34m,\u001b[0m\u001b[0mposition\u001b[0m\u001b[0;34m)\u001b[0m\u001b[0;34m\u001b[0m\u001b[0;34m\u001b[0m\u001b[0m\n",
      "\u001b[0;31mNameError\u001b[0m: name 'possibilities' is not defined"
     ]
    }
   ],
   "source": [
    "random_place(x,1)"
   ]
  },
  {
   "cell_type": "code",
   "execution_count": 18,
   "metadata": {},
   "outputs": [],
   "source": [
    "import numpy as np\n",
    "\n",
    "def create_board():\n",
    "    \"\"\"creates 3 x3 numpy array\"\"\"\n",
    "    board=np.zeros((3,3))\n",
    "    return(board)"
   ]
  },
  {
   "cell_type": "code",
   "execution_count": 19,
   "metadata": {},
   "outputs": [],
   "source": [
    "def place(board,player,position):\n",
    "    \"\"\" Allows placement of player 1 or 2 on empty (corresponding to (0,0) position on board \"\"\"\n",
    "    if board[position]==0 and (player==1 or player==2):\n",
    "        board[position]=player\n",
    "    return(board)"
   ]
  },
  {
   "cell_type": "code",
   "execution_count": 20,
   "metadata": {},
   "outputs": [],
   "source": [
    "def possibilities(board):\n",
    "    \"\"\"\" Find all positions (as tuples), where numpy array board is 0, returns tuples as list \"\"\"\n",
    "    positions=np.array(np.where(board==0)).T #only arrays can be transposed, np.where returns tuple\n",
    "    list_of_tuples=list(map(tuple,positions))\n",
    "    return(list_of_tuples)"
   ]
  },
  {
   "cell_type": "code",
   "execution_count": 21,
   "metadata": {},
   "outputs": [],
   "source": [
    "def random_place(board,player):\n",
    "    \"\"\" places a marker for the current player (1 or 2) at random among all positions with value 0 in board \"\"\"\n",
    "    import random\n",
    "    selection=possibilities(board)\n",
    "    position=random.choice(selection)\n",
    "    board=place(board,player,position)\n",
    "    return(board)"
   ]
  },
  {
   "cell_type": "code",
   "execution_count": 22,
   "metadata": {},
   "outputs": [
    {
     "name": "stdout",
     "output_type": "stream",
     "text": [
      "[[1. 2. 1.]\n",
      " [0. 0. 0.]\n",
      " [1. 2. 2.]]\n"
     ]
    }
   ],
   "source": [
    "#Exercise 5\n",
    "board = create_board()\n",
    "for j in range(3):\n",
    "    for player in [1,2]:\n",
    "        board=random_place(board,player)\n",
    "print(board)"
   ]
  },
  {
   "cell_type": "code",
   "execution_count": 24,
   "metadata": {},
   "outputs": [
    {
     "data": {
      "text/plain": [
       "False"
      ]
     },
     "execution_count": 24,
     "metadata": {},
     "output_type": "execute_result"
    }
   ],
   "source": [
    "#Exercise 6\n",
    "def row_win(board, player):\n",
    "    for i in range(board.shape[0]):\n",
    "        if (set(board[i,:]) == {player})==True:\n",
    "            return(True)\n",
    "    return(False)\n",
    "row_win(board,1)"
   ]
  },
  {
   "cell_type": "code",
   "execution_count": 25,
   "metadata": {},
   "outputs": [],
   "source": [
    "def col_win(board, player):\n",
    "    for i in range(board.shape[0]):\n",
    "        if (set(board[:,i]) == {player})==True:\n",
    "            return(True)\n",
    "    return(False)"
   ]
  },
  {
   "cell_type": "code",
   "execution_count": 27,
   "metadata": {},
   "outputs": [
    {
     "data": {
      "text/plain": [
       "False"
      ]
     },
     "execution_count": 27,
     "metadata": {},
     "output_type": "execute_result"
    }
   ],
   "source": [
    "#Exercise 8\n",
    "def diag_win(board, player):\n",
    "    for i in range(board.shape[1]):\n",
    "        if (set(np.diagonal(board)) == {player})==True:\n",
    "            return(True)\n",
    "    return(False)\n",
    "\n",
    "diag_win(board, 1)\n"
   ]
  },
  {
   "cell_type": "code",
   "execution_count": 28,
   "metadata": {},
   "outputs": [
    {
     "name": "stdout",
     "output_type": "stream",
     "text": [
      "[array([[0., 1., 2.],\n",
      "       [0., 0., 2.],\n",
      "       [1., 1., 2.]]), 2]\n",
      "[array([[1., 1., 2.],\n",
      "       [0., 0., 2.],\n",
      "       [1., 1., 2.]]), 2]\n",
      "[array([[1., 1., 2.],\n",
      "       [0., 1., 2.],\n",
      "       [1., 1., 2.]]), 1]\n"
     ]
    }
   ],
   "source": [
    "#Exercise 9\n",
    "def evaluate(board):\n",
    "    winner = 0\n",
    "    for player in [1, 2]:\n",
    "        # Check if `row_win`, `col_win`, or `diag_win` apply.\n",
    "\t\t# If so, store `player` as `winner`.\n",
    "        if (row_win(board, player)==True or col_win(board, player)==True or\n",
    "         diag_win(board, player)==True):\n",
    "            winner=player\n",
    "            return(winner)\n",
    "    if np.all(board != 0) and winner == 0:\n",
    "        winner = -1\n",
    "    return winner\n",
    "\n",
    "evaluate(board)\n",
    "board\n",
    "\n",
    "\n",
    "player=[1,2]\n",
    "results=player+[-1]\n",
    "board=create_board()\n",
    "results\n",
    "player\n",
    "for j in range(5): #better: while winner==0\n",
    "    for i in player:\n",
    "        board=random_place(board,i)\n",
    "        if (evaluate(board) in results)==True:\n",
    "            print([board,evaluate(board)])\n",
    "            break\n",
    "\n"
   ]
  },
  {
   "cell_type": "code",
   "execution_count": null,
   "metadata": {},
   "outputs": [],
   "source": []
  }
 ],
 "metadata": {
  "kernelspec": {
   "display_name": "Python 3",
   "language": "python",
   "name": "python3"
  },
  "language_info": {
   "codemirror_mode": {
    "name": "ipython",
    "version": 3
   },
   "file_extension": ".py",
   "mimetype": "text/x-python",
   "name": "python",
   "nbconvert_exporter": "python",
   "pygments_lexer": "ipython3",
   "version": "3.7.1"
  }
 },
 "nbformat": 4,
 "nbformat_minor": 2
}
