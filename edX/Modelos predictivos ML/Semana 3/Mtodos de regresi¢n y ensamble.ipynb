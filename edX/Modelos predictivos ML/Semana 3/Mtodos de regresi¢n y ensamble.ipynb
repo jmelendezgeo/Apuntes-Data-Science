{
 "cells": [
  {
   "cell_type": "markdown",
   "metadata": {},
   "source": [
    "# Descripción del problema\n",
    "\n",
    "Los datos provienen de una planta minera.\n",
    "El objetivo principal de estos datos es poder predecir la impureza en el concentrado de mineral extraído. Esta impureza es medida cada hora. Con las predicciones podríamos ayudar a los ingenieros con una alerta temprana para que puedan tomar acciones correctivas. \n",
    "\n",
    "\n",
    "- `% Silica Concentrate` es la concentración de sílice (laboratorio).\n",
    "- `% Iron Concentrate` es la concentración de hierro (laboratorio).\n",
    "- El concentrado de sílice es la impureza en el mineral de hierro que debe eliminarse.\n",
    "- El proceso actual de detección de sílice lleva muchas horas.\n",
    "\n",
    "\n",
    "Con la ayuda de algunos análisis y modelos de datos, podemos dar una buena aproximación del concentrado de sílice que reducirá mucho tiempo y esfuerzos necesarios para procesar el mineral de hierro\n",
    "\n",
    "\n",
    "Fuente:\n",
    "https://www.kaggle.com/edumagalhaes/quality-prediction-in-a-mining-process\n"
   ]
  },
  {
   "cell_type": "markdown",
   "metadata": {},
   "source": [
    "## Librerias"
   ]
  },
  {
   "cell_type": "code",
   "execution_count": null,
   "metadata": {},
   "outputs": [],
   "source": [
    "import numpy as np\n",
    "import pandas as pd\n",
    "import matplotlib.pyplot as plt\n",
    "import seaborn as sns\n",
    "from sklearn.metrics import mean_squared_error\n",
    "from sklearn import preprocessing\n",
    "from sklearn.model_selection import train_test_split\n",
    "\n",
    "%matplotlib inline"
   ]
  },
  {
   "cell_type": "markdown",
   "metadata": {},
   "source": [
    "## Lectura de datos"
   ]
  },
  {
   "cell_type": "code",
   "execution_count": null,
   "metadata": {},
   "outputs": [],
   "source": [
    "df = pd.read_csv('data/MiningProcess_Flotation_Plant_Database.csv', decimal=\",\").drop_duplicates()"
   ]
  },
  {
   "cell_type": "code",
   "execution_count": null,
   "metadata": {},
   "outputs": [],
   "source": [
    "df = df.drop([\"date\",\"% Iron Concentrate\"],axis = 1)"
   ]
  },
  {
   "cell_type": "code",
   "execution_count": null,
   "metadata": {},
   "outputs": [],
   "source": [
    "df = df.sample(10000)"
   ]
  },
  {
   "cell_type": "code",
   "execution_count": null,
   "metadata": {},
   "outputs": [],
   "source": [
    "df.head()"
   ]
  },
  {
   "cell_type": "code",
   "execution_count": null,
   "metadata": {},
   "outputs": [],
   "source": [
    "df.describe()"
   ]
  },
  {
   "cell_type": "markdown",
   "metadata": {},
   "source": [
    "## Preparación de datos"
   ]
  },
  {
   "cell_type": "code",
   "execution_count": null,
   "metadata": {},
   "outputs": [],
   "source": [
    "y = df['% Silica Concentrate']\n",
    "X = df.drop(['% Silica Concentrate'], axis=1)"
   ]
  },
  {
   "cell_type": "code",
   "execution_count": null,
   "metadata": {},
   "outputs": [],
   "source": [
    "scaler_X = preprocessing.MinMaxScaler()\n",
    "scaler_y = preprocessing.MinMaxScaler()\n",
    "\n",
    "X = pd.DataFrame(scaler_X.fit_transform(X),columns=X.columns)\n",
    "y = scaler_y.fit_transform(y.values.reshape(-1, 1))\n"
   ]
  },
  {
   "cell_type": "code",
   "execution_count": null,
   "metadata": {},
   "outputs": [],
   "source": [
    "X_train, X_test, y_train, y_test = train_test_split(X, y, test_size=0.3, random_state=103)"
   ]
  },
  {
   "cell_type": "code",
   "execution_count": null,
   "metadata": {},
   "outputs": [],
   "source": [
    "def plot(y_train,y_train_hat,y_test,y_test_hat):\n",
    "    #Definimos los limites de la  grafica\n",
    "    plt.figure(figsize=(10,10))\n",
    "    plt.axis([0,1,0,1])\n",
    "    plt.plot([[0,0],[1,1]], \"r--\")\n",
    "    #Grafica de dispersión (Real vs predicción)\n",
    "    plt.scatter(y_train,y_train_hat, label=\"Entrenamiento\",alpha=0.8)\n",
    "    plt.scatter(y_test,y_test_hat, label=\"Prueba\", alpha=0.8)\n",
    "    #Preparamos las etiquetas\n",
    "    plt.legend()\n",
    "    plt.xlabel(\"Y Real\")\n",
    "    plt.ylabel(\"Y Predicción\")\n",
    "    #Calculamos error cuadrático medio\n",
    "    error = mean_squared_error(scaler_y.inverse_transform(y_test.reshape(-1, 1)),\n",
    "                               scaler_y.inverse_transform(y_test_hat.reshape(-1, 1)))\n",
    "    print(\"El error cuadrático medio es {}\".format(error))"
   ]
  },
  {
   "cell_type": "markdown",
   "metadata": {},
   "source": [
    "## Regresión Lineal"
   ]
  },
  {
   "cell_type": "code",
   "execution_count": null,
   "metadata": {},
   "outputs": [],
   "source": [
    "from sklearn.linear_model import LinearRegression\n",
    "#Creando el modelo y entrenando\n",
    "reg = LinearRegression().fit(X_train,y_train)\n",
    "#Prediciendo valores de entrenamiento\n",
    "y_train_hat = reg.predict(X_train)\n",
    "#Prediciendo valores de validación\n",
    "y_test_hat = reg.predict(X_test)"
   ]
  },
  {
   "cell_type": "code",
   "execution_count": null,
   "metadata": {},
   "outputs": [],
   "source": [
    "plot(y_train,y_train_hat,y_test,y_test_hat)"
   ]
  },
  {
   "cell_type": "markdown",
   "metadata": {},
   "source": [
    "## SVR"
   ]
  },
  {
   "cell_type": "code",
   "execution_count": null,
   "metadata": {},
   "outputs": [],
   "source": [
    "from sklearn.svm import SVR\n",
    "\n",
    "svr_rbf = SVR(kernel='rbf', gamma='auto')\n",
    "svr_rbf.fit(X_train,y_train.ravel())\n",
    "#Prediciendo valores de entrenamiento\n",
    "y_train_hat = svr_rbf.predict(X_train)\n",
    "#Prediciendo valores de validación\n",
    "y_test_hat = svr_rbf.predict(X_test)\n",
    "\n",
    "plot(y_train,y_train_hat,y_test,y_test_hat)\n"
   ]
  },
  {
   "cell_type": "code",
   "execution_count": null,
   "metadata": {},
   "outputs": [],
   "source": [
    "svr_poly = SVR(kernel='poly', gamma='auto')\n",
    "svr_poly.fit(X_train,y_train.ravel())\n",
    "#Prediciendo valores de entrenamiento\n",
    "y_train_hat = svr_poly.predict(X_train)\n",
    "#Prediciendo valores de validación\n",
    "y_test_hat = svr_poly.predict(X_test)\n",
    "\n",
    "plot(y_train,y_train_hat,y_test,y_test_hat)"
   ]
  },
  {
   "cell_type": "markdown",
   "metadata": {},
   "source": [
    "## Arbol de decisión"
   ]
  },
  {
   "cell_type": "code",
   "execution_count": null,
   "metadata": {},
   "outputs": [],
   "source": [
    "from sklearn.tree import DecisionTreeRegressor\n",
    "\n",
    "tree = DecisionTreeRegressor(max_depth=12,min_samples_leaf=50)\n",
    "tree.fit(X_train,y_train.ravel())\n",
    "#Prediciendo valores de entrenamiento\n",
    "y_train_hat = tree.predict(X_train)\n",
    "#Prediciendo valores de validación\n",
    "y_test_hat = tree.predict(X_test)\n",
    "\n",
    "plot(y_train,y_train_hat,y_test,y_test_hat)\n",
    "\n"
   ]
  },
  {
   "cell_type": "markdown",
   "metadata": {},
   "source": [
    "# Selección de variables"
   ]
  },
  {
   "cell_type": "code",
   "execution_count": null,
   "metadata": {},
   "outputs": [],
   "source": [
    "from sklearn.feature_selection import RFE\n",
    "\n",
    "estimator = LinearRegression()\n",
    "selector = RFE(estimator, 8, step=1)\n",
    "selector = selector.fit(X_train, y_train.ravel())"
   ]
  },
  {
   "cell_type": "code",
   "execution_count": null,
   "metadata": {},
   "outputs": [],
   "source": [
    "X_train_reduced = X_train.loc[:, selector.support_]\n",
    "X_test_reduced = X_test.loc[:, selector.support_]\n",
    "X_train_reduced.head()"
   ]
  },
  {
   "cell_type": "code",
   "execution_count": null,
   "metadata": {},
   "outputs": [],
   "source": [
    "svr_rbf = SVR(kernel='rbf', gamma='auto')\n",
    "svr_rbf.fit(X_train_reduced,y_train.ravel())\n",
    "#Prediciendo valores de entrenamiento\n",
    "y_train_hat = svr_rbf.predict(X_train_reduced)\n",
    "#Prediciendo valores de validación\n",
    "y_test_hat = svr_rbf.predict(X_test_reduced)\n",
    "\n",
    "plot(y_train,y_train_hat,y_test,y_test_hat)\n"
   ]
  },
  {
   "cell_type": "markdown",
   "metadata": {},
   "source": [
    "# Métodos de ensamble\n",
    "\n",
    "Los métodos de ensamble de modelos utilizan múltiples algoritmos de aprendizaje para obtener un mejor rendimiento predictivo que el que se podría obtener de cualquiera de los algoritmos de aprendizaje de manera individual."
   ]
  },
  {
   "cell_type": "code",
   "execution_count": null,
   "metadata": {},
   "outputs": [],
   "source": [
    "from sklearn.ensemble import RandomForestRegressor\n",
    "\n",
    "rf = RandomForestRegressor(n_estimators=100)\n",
    "rf.fit(X_train,y_train.ravel())\n",
    "\n",
    "#Prediciendo valores de entrenamiento\n",
    "y_train_hat = rf.predict(X_train)\n",
    "#Prediciendo valores de validación\n",
    "y_test_hat = rf.predict(X_test)\n",
    "\n",
    "plot(y_train,y_train_hat,y_test,y_test_hat)"
   ]
  },
  {
   "cell_type": "code",
   "execution_count": null,
   "metadata": {},
   "outputs": [],
   "source": [
    "from sklearn.ensemble import GradientBoostingRegressor\n",
    "\n",
    "gbr = GradientBoostingRegressor(n_estimators=40,  max_depth=12, learning_rate=0.1)\n",
    "gbr.fit(X_train,y_train.ravel())\n",
    "\n",
    "#Prediciendo valores de entrenamiento\n",
    "y_train_hat = gbr.predict(X_train)\n",
    "#Prediciendo valores de validación\n",
    "y_test_hat = gbr.predict(X_test)\n",
    "\n",
    "plot(y_train,y_train_hat,y_test,y_test_hat)"
   ]
  }
 ],
 "metadata": {
  "kernelspec": {
   "display_name": "Python 3",
   "language": "python",
   "name": "python3"
  },
  "language_info": {
   "codemirror_mode": {
    "name": "ipython",
    "version": 3
   },
   "file_extension": ".py",
   "mimetype": "text/x-python",
   "name": "python",
   "nbconvert_exporter": "python",
   "pygments_lexer": "ipython3",
   "version": "3.7.1"
  }
 },
 "nbformat": 4,
 "nbformat_minor": 2
}
