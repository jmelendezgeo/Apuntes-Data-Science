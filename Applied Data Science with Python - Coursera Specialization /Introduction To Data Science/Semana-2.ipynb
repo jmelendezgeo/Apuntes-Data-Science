{
 "cells": [
  {
   "cell_type": "markdown",
   "metadata": {},
   "source": [
    "## Basic Data Processing with Pandas\n",
    "\n",
    "\n",
    "- Introduction to Pandas\n",
    "- The Series Data Structure\n",
    "- Querying a Series\n",
    "- DataFrame Data Structure\n",
    "- DataFrame Indexing and Loading\n",
    "- Querying a DataFrame\n",
    "- Indexing a Data Frame\n",
    "- Missing Values\n",
    "- Example: Manipulating Data Frame\n",
    "\n",
    "\n",
    "\n",
    "### Introduccion a Pandas\n",
    "\n",
    "\n",
    "- **Pandas** fue creado en 2008 por Wes Mckinney con mas de 100 desarrolladores de software comprometidos a ayudar a mejorarlo.Ahora se usaran herramientas dentro del curso.\n",
    "\n",
    "- **StackOverflow** es un foro masivo de conocimiento de Python y contenido relacionado a Pandas. Es fuertemente utilizado por desarrolladores de Pandas. Contiene preguntas sobre programación, lenguajes de programación, kits de herramientas. Es muy probable que si etiqueta una pregunta como Pandas un deasrrollador de Pandas la responda.\n",
    "\n",
    "- Otro recurso a considerar son los **libros**. \n",
    "    - Python for Data Analysis - Wes Mckinney\n",
    "    - Learning the Pandas Library - Matt Harrison\n",
    "\n",
    "- [**Planet Python**](http://planetpython.org/) Excelente blog para noticias de Python. Numero significativo de tutoriales sobre Data Science y Python. \n",
    "\n",
    "- [**Data Skeptic Podcast**](http://dataskeptic.com). Podcast por Kyle Polich creado en 2014. Cubre la DataScience de manera general. Incluye:\n",
    "    - Mini educational lessons\n",
    "    - Entrevistas\n",
    "    - Trends\n",
    "    - Share Community Project (OpenHouse)\n",
    "    \n",
    "\n",
    "### The Series Data Structure\n",
    "\n",
    "\n",
    "En esta lectura vamos a explorar la estructura de Series de Pandas. La Serie es una de las principales estructuras de datos de Pandas. Puedes pensar en ella como un cruce entre una lista o un diccionario. Los items estan almacenados en un orden y hay labels (etiquetas) con la que podemos manipularlos. Una forma facil de visualizar esto es a partir de dos columnas de datos, el primero es el indice especial (Index), muy parecido a las claves de un diccionario, mientras que el segundo son sus datos reales. Es importante tener en cuenta que la columna de datos tiene la etiqueta propia y se puede recuperar usando el atributo \" .name \". Esto es diferente a los diccionarios y es util cuando se trata de fusionar multiples columnas de datos."
   ]
  },
  {
   "cell_type": "code",
   "execution_count": 1,
   "metadata": {},
   "outputs": [],
   "source": [
    "# Importamos pandas\n",
    "import pandas as pd"
   ]
  },
  {
   "cell_type": "code",
   "execution_count": 3,
   "metadata": {},
   "outputs": [
    {
     "data": {
      "text/plain": [
       "0    Alice\n",
       "1     Jack\n",
       "2    Molly\n",
       "dtype: object"
      ]
     },
     "execution_count": 3,
     "metadata": {},
     "output_type": "execute_result"
    }
   ],
   "source": [
    "# Se pueden crear Series al pasar una lista de valores \n",
    "# Cuando se hace esto, Pandas automaticamente asigna un indice que comienza en 0\n",
    "# y el nombre de la serie en None (Tambien se pueden especificar nombres e indices)\n",
    "\n",
    "# Una de las maneras mas sencillas de crear una Serie es usar un array-like-object. Una lista es un buen \n",
    "# candidato\n",
    "\n",
    "# Haremos una lista de tres etudiantes: Alice, Jack y Molly. Todos strings\n",
    "students = ['Alice', 'Jack', 'Molly']\n",
    "\n",
    "# Ahora llamaremos la funcion Series de pandas y le pasaremos a los estudiantes\n",
    "pd.Series(students)"
   ]
  },
  {
   "cell_type": "code",
   "execution_count": 4,
   "metadata": {},
   "outputs": [],
   "source": [
    "# El resultado es una Serie (Visualmente agradable) que se observa en la pantalla. Podemos ver que Pandas\n",
    "# automaticamente identifica el tipo de data de la serie como \"object\" y ha establecido el parámetro dtype\n",
    "# según corresponda (podría ser float64). Vemos que los valores estan indexados con enteros y comienza en 0"
   ]
  },
  {
   "cell_type": "code",
   "execution_count": 5,
   "metadata": {},
   "outputs": [
    {
     "data": {
      "text/plain": [
       "0    1\n",
       "1    2\n",
       "2    3\n",
       "dtype: int64"
      ]
     },
     "execution_count": 5,
     "metadata": {},
     "output_type": "execute_result"
    }
   ],
   "source": [
    "# No tenemos que usar strings. Si pasamos numeros podemos ver que pandas le asigna el tipo int64 o float64. \n",
    "# Debajo, los valores de la serie de almacenamiento de Pandas usan la librería de Numpy. Esto ofrece mucha \n",
    "# velocidad y eficiencia cuando se procesa Data frente a las listas tradicionales de Python\n",
    "\n",
    "# Vamos a crear una pequeña lista de numeros:\n",
    "numbers = [1,2,3]\n",
    "# La pasamos a una serie\n",
    "pd.Series(numbers)"
   ]
  },
  {
   "cell_type": "code",
   "execution_count": 6,
   "metadata": {},
   "outputs": [
    {
     "data": {
      "text/plain": [
       "0    Alice\n",
       "1     Jack\n",
       "2     None\n",
       "dtype: object"
      ]
     },
     "execution_count": 6,
     "metadata": {},
     "output_type": "execute_result"
    }
   ],
   "source": [
    "# Hay otros importantes detalles de typing que existen para el rendimiento que son importantes conocer.\n",
    "# Lo mas importante es como Numpy y, por lo tanto, Pandas, manejan los valores que faltan (Missing values). \n",
    "# En Python tenemos el tipo None para identificar que faltan datos. Debajo, Pandas hace algun tipo de conversion\n",
    "# para nosotros. Si creamos una lista de cadenas y tenemos un elemento, un tipo None, pandas inserta eso com None\n",
    "# y utiliza el objeto de tipo para la matriz subyacente\n",
    "\n",
    "\n",
    "students = ['Alice', 'Jack', None]\n",
    "\n",
    "pd.Series(students)"
   ]
  },
  {
   "cell_type": "code",
   "execution_count": 7,
   "metadata": {},
   "outputs": [
    {
     "data": {
      "text/plain": [
       "0    1.0\n",
       "1    2.0\n",
       "2    NaN\n",
       "dtype: float64"
      ]
     },
     "execution_count": 7,
     "metadata": {},
     "output_type": "execute_result"
    }
   ],
   "source": [
    "# Por otro lado, si creamos una lista de numeros, enteros o flotantes, y ponemos el tipo None, \n",
    "# Pandas automaticamente convierte esto en un valor punto flotante especial designado como NaN (not a number)\n",
    "\n",
    "numbers = [1,2,None]\n",
    "pd.Series(numbers)"
   ]
  },
  {
   "cell_type": "code",
   "execution_count": 8,
   "metadata": {},
   "outputs": [],
   "source": [
    "# Podemos notar varias cosas: \n",
    "# Primero, NaN es un valor diferente a None. Segundo, Pandas asigno el dtype de su serie como float64 (puntos\n",
    "# flotantes). Debajo, Pandas representa NaN como un numero de punto flotante y por tanto convirtio los valores\n",
    "# enteros a flotantes automaticamente"
   ]
  },
  {
   "cell_type": "code",
   "execution_count": 9,
   "metadata": {},
   "outputs": [
    {
     "data": {
      "text/plain": [
       "False"
      ]
     },
     "execution_count": 9,
     "metadata": {},
     "output_type": "execute_result"
    }
   ],
   "source": [
    "# Para la ciencia de datos podemos tratar los None y los NaN de la misma forma: Para representar que no hay datos.\n",
    "# Sin embargo, Pandas no los trata de la misma manera\n",
    "\n",
    "# NaN is *NOT* equivalent to None. Cuando intentamos probarlo el resultado es False\n",
    "\n",
    "import numpy as np\n",
    "\n",
    "np.nan == None"
   ]
  },
  {
   "cell_type": "code",
   "execution_count": 10,
   "metadata": {},
   "outputs": [
    {
     "data": {
      "text/plain": [
       "False"
      ]
     },
     "execution_count": 10,
     "metadata": {},
     "output_type": "execute_result"
    }
   ],
   "source": [
    "# Resulta que en realidad ni siquiera se puede hacer una prueba de igualdad de NaN a sí mismo. Cuando intentas\n",
    "# esto, el resultado siempre es falso\n",
    "\n",
    "np.nan == np.nan"
   ]
  },
  {
   "cell_type": "code",
   "execution_count": 11,
   "metadata": {},
   "outputs": [
    {
     "data": {
      "text/plain": [
       "True"
      ]
     },
     "execution_count": 11,
     "metadata": {},
     "output_type": "execute_result"
    }
   ],
   "source": [
    "# En su lugar, debemos utilizar funciones especiales para probar la presenta de un NaN\n",
    "\n",
    "np.isnan(np.nan)"
   ]
  },
  {
   "cell_type": "code",
   "execution_count": 12,
   "metadata": {},
   "outputs": [],
   "source": [
    "# Por lo tanto hay que tener en mente que cuando vemos un valor NaN, su significado es similar a None\n",
    "# pero es un valor numerico y se trata diferente por razones de eficiencia"
   ]
  },
  {
   "cell_type": "code",
   "execution_count": 14,
   "metadata": {},
   "outputs": [
    {
     "data": {
      "text/plain": [
       "Alice      Physics\n",
       "Jack     Chemistry\n",
       "Molly      English\n",
       "dtype: object"
      ]
     },
     "execution_count": 14,
     "metadata": {},
     "output_type": "execute_result"
    }
   ],
   "source": [
    "# Aunque una lista puede ser una forma comun de crear una serie, a menudo uno quiere etiquetar los datos que \n",
    "# desea manipular. Una serie puede ser creada con un diccionario donde las Keys se asignan como Index\n",
    "# y no solo como enteros con incremento\n",
    "\n",
    "\n",
    "students_scores = { 'Alice': 'Physics',\n",
    "                    'Jack': 'Chemistry',\n",
    "                    'Molly': 'English'}\n",
    "s = pd.Series(students_scores)\n",
    "s"
   ]
  },
  {
   "cell_type": "code",
   "execution_count": 15,
   "metadata": {},
   "outputs": [
    {
     "data": {
      "text/plain": [
       "Index(['Alice', 'Jack', 'Molly'], dtype='object')"
      ]
     },
     "execution_count": 15,
     "metadata": {},
     "output_type": "execute_result"
    }
   ],
   "source": [
    "# Vemos que el index es una lista de strings. Ademas vemos que a pesar de ser strigns Pands asigna el dtype como\n",
    "# object. \n",
    "\n",
    "s.index"
   ]
  },
  {
   "cell_type": "code",
   "execution_count": 16,
   "metadata": {},
   "outputs": [
    {
     "data": {
      "text/plain": [
       "0    (Alice, Brown)\n",
       "1     (Jack, White)\n",
       "2    (Molly, Green)\n",
       "dtype: object"
      ]
     },
     "execution_count": 16,
     "metadata": {},
     "output_type": "execute_result"
    }
   ],
   "source": [
    "# Creemos un tipo de data mas complejo, como una lista de tuplas\n",
    "\n",
    "students = [('Alice','Brown'),('Jack','White'),('Molly','Green')]\n",
    "pd.Series(students)"
   ]
  },
  {
   "cell_type": "code",
   "execution_count": 18,
   "metadata": {},
   "outputs": [
    {
     "data": {
      "text/plain": [
       "Alice      Physics\n",
       "Jack     Chemistry\n",
       "Molly      English\n",
       "dtype: object"
      ]
     },
     "execution_count": 18,
     "metadata": {},
     "output_type": "execute_result"
    }
   ],
   "source": [
    "# Podemos separar la creacion del indice de la data al pasar el indice como una lista explicitamente\n",
    "\n",
    "s = pd.Series(['Physics','Chemistry','English'], index = ['Alice','Jack','Molly'])\n",
    "s"
   ]
  },
  {
   "cell_type": "code",
   "execution_count": 20,
   "metadata": {},
   "outputs": [
    {
     "data": {
      "text/plain": [
       "Alice    Physics\n",
       "Molly    English\n",
       "Sam          NaN\n",
       "dtype: object"
      ]
     },
     "execution_count": 20,
     "metadata": {},
     "output_type": "execute_result"
    }
   ],
   "source": [
    "# Que pasa si pasamos un diccionario y una lista con los index pero hay un valor que no coincide? o no estan \n",
    "# alineados?. Pandas omite la creacion automatica para favorecer solo todos los indices values que se proveen.\n",
    "# Con esto, se ignora del diccionario todas las llaves que no esten en index y Pandas añade None o NaN \n",
    "# para cualquier index value que se de que no se encuentre en el diccionario\n",
    "\n",
    "students_scores = {'Alice':'Physics',\n",
    "            'Jack': 'Chemistry',\n",
    "            'Molly': 'English'}\n",
    "# Vamos a crear una serie pero excluyendo a Jack\n",
    "s = pd.Series(students_scores, index = ['Alice','Molly','Sam'])\n",
    "s"
   ]
  },
  {
   "cell_type": "code",
   "execution_count": null,
   "metadata": {},
   "outputs": [],
   "source": [
    "# Vemos que en el resultado no esta Jack. Y hay un valor NaN para Sam porque no estaba en nuestro dataset original\n"
   ]
  }
 ],
 "metadata": {
  "kernelspec": {
   "display_name": "Python 3",
   "language": "python",
   "name": "python3"
  },
  "language_info": {
   "codemirror_mode": {
    "name": "ipython",
    "version": 3
   },
   "file_extension": ".py",
   "mimetype": "text/x-python",
   "name": "python",
   "nbconvert_exporter": "python",
   "pygments_lexer": "ipython3",
   "version": "3.7.1"
  }
 },
 "nbformat": 4,
 "nbformat_minor": 2
}
