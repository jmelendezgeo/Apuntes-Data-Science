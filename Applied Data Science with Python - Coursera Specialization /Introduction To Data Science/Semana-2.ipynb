{
 "cells": [
  {
   "cell_type": "markdown",
   "metadata": {},
   "source": [
    "## Basic Data Processing with Pandas\n",
    "\n",
    "\n",
    "- Introduction to Pandas\n",
    "- The Series Data Structure\n",
    "- Querying a Series\n",
    "- DataFrame Data Structure\n",
    "- DataFrame Indexing and Loading\n",
    "- Querying a DataFrame\n",
    "- Indexing a Data Frame\n",
    "- Missing Values\n",
    "- Example: Manipulating Data Frame\n",
    "\n",
    "\n",
    "\n",
    "### Introduccion a Pandas\n",
    "\n",
    "\n",
    "- **Pandas** fue creado en 2008 por Wes Mckinney con mas de 100 desarrolladores de software comprometidos a ayudar a mejorarlo.Ahora se usaran herramientas dentro del curso.\n",
    "\n",
    "- **StackOverflow** es un foro masivo de conocimiento de Python y contenido relacionado a Pandas. Es fuertemente utilizado por desarrolladores de Pandas. Contiene preguntas sobre programación, lenguajes de programación, kits de herramientas. Es muy probable que si etiqueta una pregunta como Pandas un deasrrollador de Pandas la responda.\n",
    "\n",
    "- Otro recurso a considerar son los **libros**. \n",
    "    - Python for Data Analysis - Wes Mckinney\n",
    "    - Learning the Pandas Library - Matt Harrison\n",
    "\n",
    "- [**Planet Python**](http://planetpython.org/) Excelente blog para noticias de Python. Numero significativo de tutoriales sobre Data Science y Python. \n",
    "\n",
    "- [**Data Skeptic Podcast**](http://dataskeptic.com). Podcast por Kyle Polich creado en 2014. Cubre la DataScience de manera general. Incluye:\n",
    "    - Mini educational lessons\n",
    "    - Entrevistas\n",
    "    - Trends\n",
    "    - Share Community Project (OpenHouse)\n",
    "    \n",
    "\n",
    "### The Series Data Structure\n",
    "\n",
    "\n",
    "En esta lectura vamos a explorar la estructura de Series de Pandas. La Serie es una de las principales estructuras de datos de Pandas. Puedes pensar en ella como un cruce entre una lista o un diccionario. Los items estan almacenados en un orden y hay labels (etiquetas) con la que podemos manipularlos. Una forma facil de visualizar esto es a partir de dos columnas de datos, el primero es el indice especial (Index), muy parecido a las claves de un diccionario, mientras que el segundo son sus datos reales. Es importante tener en cuenta que la columna de datos tiene la etiqueta propia y se puede recuperar usando el atributo \" .name \". Esto es diferente a los diccionarios y es util cuando se trata de fusionar multiples columnas de datos."
   ]
  },
  {
   "cell_type": "code",
   "execution_count": 1,
   "metadata": {},
   "outputs": [],
   "source": [
    "# Importamos pandas\n",
    "import pandas as pd"
   ]
  },
  {
   "cell_type": "code",
   "execution_count": 3,
   "metadata": {},
   "outputs": [
    {
     "data": {
      "text/plain": [
       "0    Alice\n",
       "1     Jack\n",
       "2    Molly\n",
       "dtype: object"
      ]
     },
     "execution_count": 3,
     "metadata": {},
     "output_type": "execute_result"
    }
   ],
   "source": [
    "# Se pueden crear Series al pasar una lista de valores \n",
    "# Cuando se hace esto, Pandas automaticamente asigna un indice que comienza en 0\n",
    "# y el nombre de la serie en None (Tambien se pueden especificar nombres e indices)\n",
    "\n",
    "# Una de las maneras mas sencillas de crear una Serie es usar un array-like-object. Una lista es un buen \n",
    "# candidato\n",
    "\n",
    "# Haremos una lista de tres etudiantes: Alice, Jack y Molly. Todos strings\n",
    "students = ['Alice', 'Jack', 'Molly']\n",
    "\n",
    "# Ahora llamaremos la funcion Series de pandas y le pasaremos a los estudiantes\n",
    "pd.Series(students)"
   ]
  },
  {
   "cell_type": "code",
   "execution_count": 4,
   "metadata": {},
   "outputs": [],
   "source": [
    "# El resultado es una Serie (Visualmente agradable) que se observa en la pantalla. Podemos ver que Pandas\n",
    "# automaticamente identifica el tipo de data de la serie como \"object\" y ha establecido el parámetro dtype\n",
    "# según corresponda (podría ser float64). Vemos que los valores estan indexados con enteros y comienza en 0"
   ]
  },
  {
   "cell_type": "code",
   "execution_count": 5,
   "metadata": {},
   "outputs": [
    {
     "data": {
      "text/plain": [
       "0    1\n",
       "1    2\n",
       "2    3\n",
       "dtype: int64"
      ]
     },
     "execution_count": 5,
     "metadata": {},
     "output_type": "execute_result"
    }
   ],
   "source": [
    "# No tenemos que usar strings. Si pasamos numeros podemos ver que pandas le asigna el tipo int64 o float64. \n",
    "# Debajo, los valores de la serie de almacenamiento de Pandas usan la librería de Numpy. Esto ofrece mucha \n",
    "# velocidad y eficiencia cuando se procesa Data frente a las listas tradicionales de Python\n",
    "\n",
    "# Vamos a crear una pequeña lista de numeros:\n",
    "numbers = [1,2,3]\n",
    "# La pasamos a una serie\n",
    "pd.Series(numbers)"
   ]
  },
  {
   "cell_type": "code",
   "execution_count": 6,
   "metadata": {},
   "outputs": [
    {
     "data": {
      "text/plain": [
       "0    Alice\n",
       "1     Jack\n",
       "2     None\n",
       "dtype: object"
      ]
     },
     "execution_count": 6,
     "metadata": {},
     "output_type": "execute_result"
    }
   ],
   "source": [
    "# Hay otros importantes detalles de typing que existen para el rendimiento que son importantes conocer.\n",
    "# Lo mas importante es como Numpy y, por lo tanto, Pandas, manejan los valores que faltan (Missing values). \n",
    "# En Python tenemos el tipo None para identificar que faltan datos. Debajo, Pandas hace algun tipo de conversion\n",
    "# para nosotros. Si creamos una lista de cadenas y tenemos un elemento, un tipo None, pandas inserta eso com None\n",
    "# y utiliza el objeto de tipo para la matriz subyacente\n",
    "\n",
    "\n",
    "students = ['Alice', 'Jack', None]\n",
    "\n",
    "pd.Series(students)"
   ]
  },
  {
   "cell_type": "code",
   "execution_count": 7,
   "metadata": {},
   "outputs": [
    {
     "data": {
      "text/plain": [
       "0    1.0\n",
       "1    2.0\n",
       "2    NaN\n",
       "dtype: float64"
      ]
     },
     "execution_count": 7,
     "metadata": {},
     "output_type": "execute_result"
    }
   ],
   "source": [
    "# Por otro lado, si creamos una lista de numeros, enteros o flotantes, y ponemos el tipo None, \n",
    "# Pandas automaticamente convierte esto en un valor punto flotante especial designado como NaN (not a number)\n",
    "\n",
    "numbers = [1,2,None]\n",
    "pd.Series(numbers)"
   ]
  },
  {
   "cell_type": "code",
   "execution_count": 8,
   "metadata": {},
   "outputs": [],
   "source": [
    "# Podemos notar varias cosas: \n",
    "# Primero, NaN es un valor diferente a None. Segundo, Pandas asigno el dtype de su serie como float64 (puntos\n",
    "# flotantes). Debajo, Pandas representa NaN como un numero de punto flotante y por tanto convirtio los valores\n",
    "# enteros a flotantes automaticamente"
   ]
  },
  {
   "cell_type": "code",
   "execution_count": 9,
   "metadata": {},
   "outputs": [
    {
     "data": {
      "text/plain": [
       "False"
      ]
     },
     "execution_count": 9,
     "metadata": {},
     "output_type": "execute_result"
    }
   ],
   "source": [
    "# Para la ciencia de datos podemos tratar los None y los NaN de la misma forma: Para representar que no hay datos.\n",
    "# Sin embargo, Pandas no los trata de la misma manera\n",
    "\n",
    "# NaN is *NOT* equivalent to None. Cuando intentamos probarlo el resultado es False\n",
    "\n",
    "import numpy as np\n",
    "\n",
    "np.nan == None"
   ]
  },
  {
   "cell_type": "code",
   "execution_count": 10,
   "metadata": {},
   "outputs": [
    {
     "data": {
      "text/plain": [
       "False"
      ]
     },
     "execution_count": 10,
     "metadata": {},
     "output_type": "execute_result"
    }
   ],
   "source": [
    "# Resulta que en realidad ni siquiera se puede hacer una prueba de igualdad de NaN a sí mismo. Cuando intentas\n",
    "# esto, el resultado siempre es falso\n",
    "\n",
    "np.nan == np.nan"
   ]
  },
  {
   "cell_type": "code",
   "execution_count": 11,
   "metadata": {},
   "outputs": [
    {
     "data": {
      "text/plain": [
       "True"
      ]
     },
     "execution_count": 11,
     "metadata": {},
     "output_type": "execute_result"
    }
   ],
   "source": [
    "# En su lugar, debemos utilizar funciones especiales para probar la presenta de un NaN\n",
    "\n",
    "np.isnan(np.nan)"
   ]
  },
  {
   "cell_type": "code",
   "execution_count": 12,
   "metadata": {},
   "outputs": [],
   "source": [
    "# Por lo tanto hay que tener en mente que cuando vemos un valor NaN, su significado es similar a None\n",
    "# pero es un valor numerico y se trata diferente por razones de eficiencia"
   ]
  },
  {
   "cell_type": "code",
   "execution_count": 14,
   "metadata": {},
   "outputs": [
    {
     "data": {
      "text/plain": [
       "Alice      Physics\n",
       "Jack     Chemistry\n",
       "Molly      English\n",
       "dtype: object"
      ]
     },
     "execution_count": 14,
     "metadata": {},
     "output_type": "execute_result"
    }
   ],
   "source": [
    "# Aunque una lista puede ser una forma comun de crear una serie, a menudo uno quiere etiquetar los datos que \n",
    "# desea manipular. Una serie puede ser creada con un diccionario donde las Keys se asignan como Index\n",
    "# y no solo como enteros con incremento\n",
    "\n",
    "\n",
    "students_scores = { 'Alice': 'Physics',\n",
    "                    'Jack': 'Chemistry',\n",
    "                    'Molly': 'English'}\n",
    "s = pd.Series(students_scores)\n",
    "s"
   ]
  },
  {
   "cell_type": "code",
   "execution_count": 15,
   "metadata": {},
   "outputs": [
    {
     "data": {
      "text/plain": [
       "Index(['Alice', 'Jack', 'Molly'], dtype='object')"
      ]
     },
     "execution_count": 15,
     "metadata": {},
     "output_type": "execute_result"
    }
   ],
   "source": [
    "# Vemos que el index es una lista de strings. Ademas vemos que a pesar de ser strigns Pands asigna el dtype como\n",
    "# object. \n",
    "\n",
    "s.index"
   ]
  },
  {
   "cell_type": "code",
   "execution_count": 16,
   "metadata": {},
   "outputs": [
    {
     "data": {
      "text/plain": [
       "0    (Alice, Brown)\n",
       "1     (Jack, White)\n",
       "2    (Molly, Green)\n",
       "dtype: object"
      ]
     },
     "execution_count": 16,
     "metadata": {},
     "output_type": "execute_result"
    }
   ],
   "source": [
    "# Creemos un tipo de data mas complejo, como una lista de tuplas\n",
    "\n",
    "students = [('Alice','Brown'),('Jack','White'),('Molly','Green')]\n",
    "pd.Series(students)"
   ]
  },
  {
   "cell_type": "code",
   "execution_count": 18,
   "metadata": {},
   "outputs": [
    {
     "data": {
      "text/plain": [
       "Alice      Physics\n",
       "Jack     Chemistry\n",
       "Molly      English\n",
       "dtype: object"
      ]
     },
     "execution_count": 18,
     "metadata": {},
     "output_type": "execute_result"
    }
   ],
   "source": [
    "# Podemos separar la creacion del indice de la data al pasar el indice como una lista explicitamente\n",
    "\n",
    "s = pd.Series(['Physics','Chemistry','English'], index = ['Alice','Jack','Molly'])\n",
    "s"
   ]
  },
  {
   "cell_type": "code",
   "execution_count": 20,
   "metadata": {},
   "outputs": [
    {
     "data": {
      "text/plain": [
       "Alice    Physics\n",
       "Molly    English\n",
       "Sam          NaN\n",
       "dtype: object"
      ]
     },
     "execution_count": 20,
     "metadata": {},
     "output_type": "execute_result"
    }
   ],
   "source": [
    "# Que pasa si pasamos un diccionario y una lista con los index pero hay un valor que no coincide? o no estan \n",
    "# alineados?. Pandas omite la creacion automatica para favorecer solo todos los indices values que se proveen.\n",
    "# Con esto, se ignora del diccionario todas las llaves que no esten en index y Pandas añade None o NaN \n",
    "# para cualquier index value que se de que no se encuentre en el diccionario\n",
    "\n",
    "students_scores = {'Alice':'Physics',\n",
    "            'Jack': 'Chemistry',\n",
    "            'Molly': 'English'}\n",
    "# Vamos a crear una serie pero excluyendo a Jack\n",
    "s = pd.Series(students_scores, index = ['Alice','Molly','Sam'])\n",
    "s"
   ]
  },
  {
   "cell_type": "code",
   "execution_count": 1,
   "metadata": {},
   "outputs": [],
   "source": [
    "# Vemos que en el resultado no esta Jack. Y hay un valor NaN para Sam porque no estaba en nuestro dataset original\n"
   ]
  },
  {
   "cell_type": "markdown",
   "metadata": {},
   "source": [
    "### Querying a Series\n",
    "\n",
    "Hablaremos de como hacer consultas y unir Series objects y la importancia de pensar en la paralelización cuando participe en la ciencia de datos.\n",
    "\n",
    "Una serie de pandas se puede consultar por la **posicion** del indice o por la **etiqueta** del indice. Si no se proporicona un indice para la serie cuando se conulta, la posicion y la etiqueta son efectivamente le mismo valor"
   ]
  },
  {
   "cell_type": "code",
   "execution_count": 2,
   "metadata": {},
   "outputs": [
    {
     "data": {
      "text/plain": [
       "Alice      Physics\n",
       "Jack     Chemistry\n",
       "Molly      English\n",
       "Sam        History\n",
       "dtype: object"
      ]
     },
     "execution_count": 2,
     "metadata": {},
     "output_type": "execute_result"
    }
   ],
   "source": [
    "# Para consultar por la posicion numerica podemos usar el atributo iloc. Para consultar por la index label \n",
    "# podemos usar el atributo loc\n",
    "\n",
    "import pandas as pd\n",
    "students_classes= {'Alice':'Physics',\n",
    "                   'Jack': 'Chemistry',\n",
    "                   'Molly': 'English',\n",
    "                   'Sam': 'History'}\n",
    "\n",
    "s = pd.Series(students_classes)\n",
    "s"
   ]
  },
  {
   "cell_type": "code",
   "execution_count": 3,
   "metadata": {},
   "outputs": [
    {
     "data": {
      "text/plain": [
       "'History'"
      ]
     },
     "execution_count": 3,
     "metadata": {},
     "output_type": "execute_result"
    }
   ],
   "source": [
    "# Si queremos ver la cuarta entrada podemos usar iloc attribute con el parametro 3\n",
    "\n",
    "s.iloc[3]"
   ]
  },
  {
   "cell_type": "code",
   "execution_count": 4,
   "metadata": {},
   "outputs": [
    {
     "data": {
      "text/plain": [
       "'English'"
      ]
     },
     "execution_count": 4,
     "metadata": {},
     "output_type": "execute_result"
    }
   ],
   "source": [
    "# Si queremos ver la clase que tiene Molly podemos usar el loc attribute con el parametro de Molly\n",
    "\n",
    "s.loc['Molly']"
   ]
  },
  {
   "cell_type": "code",
   "execution_count": 6,
   "metadata": {},
   "outputs": [],
   "source": [
    "# Tengamos en mente que loc y iloc no son metodos, son atributos, no metodos. Por eso no tienen parentesis\n",
    "# sino corchetes, lo que se denomina indexing operator"
   ]
  },
  {
   "cell_type": "code",
   "execution_count": 7,
   "metadata": {},
   "outputs": [
    {
     "data": {
      "text/plain": [
       "'History'"
      ]
     },
     "execution_count": 7,
     "metadata": {},
     "output_type": "execute_result"
    }
   ],
   "source": [
    "# Pandas intenta hacer nuestro codigo mas legible a partir de una sintaxis inteligente usando el \n",
    "# indexing operator directamente en la serie misma. Por ejemplo, si pasamos un parametro entero como indexing \n",
    "# operator, se comportara como si queremos consultar a traves del iloc attribute\n",
    "\n",
    "s[3]"
   ]
  },
  {
   "cell_type": "code",
   "execution_count": 8,
   "metadata": {},
   "outputs": [
    {
     "data": {
      "text/plain": [
       "'English'"
      ]
     },
     "execution_count": 8,
     "metadata": {},
     "output_type": "execute_result"
    }
   ],
   "source": [
    "# Si pasamos un un objeto consultara como si quisieramos usar la etiqueta basda en el atributo loc\n",
    "\n",
    "s['Molly']"
   ]
  },
  {
   "cell_type": "code",
   "execution_count": 9,
   "metadata": {},
   "outputs": [],
   "source": [
    "# Que pasa si nuestro indice es una lista de enteros? Será dificil para pandas saber si lo que deseas es \n",
    "# hacer una consulta por loc y iloc por lo que debemos ser cuidadosos al usar el indexing operator directamente\n",
    "# en la serie. La opcion mas segura es ser explicito y utilizar directamente los atributos iloc y loc\n",
    "\n",
    "# Aqui hay un ejemplo de clases y codigos de clases\n",
    "\n",
    "class_code = {99: 'Physics',\n",
    "              100: 'Chemistry',\n",
    "              101: 'English',\n",
    "              102: 'History'}\n",
    "s = pd.Series(class_code)\n"
   ]
  },
  {
   "cell_type": "code",
   "execution_count": 10,
   "metadata": {},
   "outputs": [
    {
     "ename": "KeyError",
     "evalue": "0",
     "output_type": "error",
     "traceback": [
      "\u001b[0;31m---------------------------------------------------------------------------\u001b[0m",
      "\u001b[0;31mKeyError\u001b[0m                                  Traceback (most recent call last)",
      "\u001b[0;32m<ipython-input-10-eb42eff814fb>\u001b[0m in \u001b[0;36m<module>\u001b[0;34m\u001b[0m\n\u001b[1;32m      2\u001b[0m \u001b[0;31m# por lo que para querer tomar ese elemento debemos hacerlo a partir del iloc attribute\u001b[0m\u001b[0;34m\u001b[0m\u001b[0;34m\u001b[0m\u001b[0;34m\u001b[0m\u001b[0m\n\u001b[1;32m      3\u001b[0m \u001b[0;34m\u001b[0m\u001b[0m\n\u001b[0;32m----> 4\u001b[0;31m \u001b[0ms\u001b[0m\u001b[0;34m[\u001b[0m\u001b[0;36m0\u001b[0m\u001b[0;34m]\u001b[0m\u001b[0;34m\u001b[0m\u001b[0;34m\u001b[0m\u001b[0m\n\u001b[0m",
      "\u001b[0;32m~/anaconda3/lib/python3.7/site-packages/pandas/core/series.py\u001b[0m in \u001b[0;36m__getitem__\u001b[0;34m(self, key)\u001b[0m\n\u001b[1;32m    765\u001b[0m         \u001b[0mkey\u001b[0m \u001b[0;34m=\u001b[0m \u001b[0mcom\u001b[0m\u001b[0;34m.\u001b[0m\u001b[0m_apply_if_callable\u001b[0m\u001b[0;34m(\u001b[0m\u001b[0mkey\u001b[0m\u001b[0;34m,\u001b[0m \u001b[0mself\u001b[0m\u001b[0;34m)\u001b[0m\u001b[0;34m\u001b[0m\u001b[0;34m\u001b[0m\u001b[0m\n\u001b[1;32m    766\u001b[0m         \u001b[0;32mtry\u001b[0m\u001b[0;34m:\u001b[0m\u001b[0;34m\u001b[0m\u001b[0;34m\u001b[0m\u001b[0m\n\u001b[0;32m--> 767\u001b[0;31m             \u001b[0mresult\u001b[0m \u001b[0;34m=\u001b[0m \u001b[0mself\u001b[0m\u001b[0;34m.\u001b[0m\u001b[0mindex\u001b[0m\u001b[0;34m.\u001b[0m\u001b[0mget_value\u001b[0m\u001b[0;34m(\u001b[0m\u001b[0mself\u001b[0m\u001b[0;34m,\u001b[0m \u001b[0mkey\u001b[0m\u001b[0;34m)\u001b[0m\u001b[0;34m\u001b[0m\u001b[0;34m\u001b[0m\u001b[0m\n\u001b[0m\u001b[1;32m    768\u001b[0m \u001b[0;34m\u001b[0m\u001b[0m\n\u001b[1;32m    769\u001b[0m             \u001b[0;32mif\u001b[0m \u001b[0;32mnot\u001b[0m \u001b[0mis_scalar\u001b[0m\u001b[0;34m(\u001b[0m\u001b[0mresult\u001b[0m\u001b[0;34m)\u001b[0m\u001b[0;34m:\u001b[0m\u001b[0;34m\u001b[0m\u001b[0;34m\u001b[0m\u001b[0m\n",
      "\u001b[0;32m~/anaconda3/lib/python3.7/site-packages/pandas/core/indexes/base.py\u001b[0m in \u001b[0;36mget_value\u001b[0;34m(self, series, key)\u001b[0m\n\u001b[1;32m   3116\u001b[0m         \u001b[0;32mtry\u001b[0m\u001b[0;34m:\u001b[0m\u001b[0;34m\u001b[0m\u001b[0;34m\u001b[0m\u001b[0m\n\u001b[1;32m   3117\u001b[0m             return self._engine.get_value(s, k,\n\u001b[0;32m-> 3118\u001b[0;31m                                           tz=getattr(series.dtype, 'tz', None))\n\u001b[0m\u001b[1;32m   3119\u001b[0m         \u001b[0;32mexcept\u001b[0m \u001b[0mKeyError\u001b[0m \u001b[0;32mas\u001b[0m \u001b[0me1\u001b[0m\u001b[0;34m:\u001b[0m\u001b[0;34m\u001b[0m\u001b[0;34m\u001b[0m\u001b[0m\n\u001b[1;32m   3120\u001b[0m             \u001b[0;32mif\u001b[0m \u001b[0mlen\u001b[0m\u001b[0;34m(\u001b[0m\u001b[0mself\u001b[0m\u001b[0;34m)\u001b[0m \u001b[0;34m>\u001b[0m \u001b[0;36m0\u001b[0m \u001b[0;32mand\u001b[0m \u001b[0mself\u001b[0m\u001b[0;34m.\u001b[0m\u001b[0minferred_type\u001b[0m \u001b[0;32min\u001b[0m \u001b[0;34m[\u001b[0m\u001b[0;34m'integer'\u001b[0m\u001b[0;34m,\u001b[0m \u001b[0;34m'boolean'\u001b[0m\u001b[0;34m]\u001b[0m\u001b[0;34m:\u001b[0m\u001b[0;34m\u001b[0m\u001b[0;34m\u001b[0m\u001b[0m\n",
      "\u001b[0;32mpandas/_libs/index.pyx\u001b[0m in \u001b[0;36mpandas._libs.index.IndexEngine.get_value\u001b[0;34m()\u001b[0m\n",
      "\u001b[0;32mpandas/_libs/index.pyx\u001b[0m in \u001b[0;36mpandas._libs.index.IndexEngine.get_value\u001b[0;34m()\u001b[0m\n",
      "\u001b[0;32mpandas/_libs/index.pyx\u001b[0m in \u001b[0;36mpandas._libs.index.IndexEngine.get_loc\u001b[0;34m()\u001b[0m\n",
      "\u001b[0;32mpandas/_libs/hashtable_class_helper.pxi\u001b[0m in \u001b[0;36mpandas._libs.hashtable.Int64HashTable.get_item\u001b[0;34m()\u001b[0m\n",
      "\u001b[0;32mpandas/_libs/hashtable_class_helper.pxi\u001b[0m in \u001b[0;36mpandas._libs.hashtable.Int64HashTable.get_item\u001b[0;34m()\u001b[0m\n",
      "\u001b[0;31mKeyError\u001b[0m: 0"
     ]
    }
   ],
   "source": [
    "# Si queremos llamar s[0] habra un error porque no hay un item en la lista de clases con ese indice cero\n",
    "# por lo que para querer tomar ese elemento debemos hacerlo a partir del iloc attribute\n",
    "\n",
    "s[0]"
   ]
  },
  {
   "cell_type": "code",
   "execution_count": 11,
   "metadata": {},
   "outputs": [
    {
     "data": {
      "text/plain": [
       "'Physics'"
      ]
     },
     "execution_count": 11,
     "metadata": {},
     "output_type": "execute_result"
    }
   ],
   "source": [
    "s.iloc[0]"
   ]
  },
  {
   "cell_type": "code",
   "execution_count": 12,
   "metadata": {},
   "outputs": [
    {
     "name": "stdout",
     "output_type": "stream",
     "text": [
      "75.0\n"
     ]
    }
   ],
   "source": [
    "# Ahora trabajemos con la data. Una tarea comun es considerar los valores dentro de una serie y hacer algun tipo\n",
    "# de operacion. Esto podria ser encontrar cierto numero, resumir o transformar los datos de alguna manera.\n",
    "\n",
    "# Por ejemplo podriamos crear una lista con las notas de los estudiantes y obtener la media de las notas\n",
    "\n",
    "\n",
    "grades= pd.Series([90,80,70,60])\n",
    "\n",
    "total= 0\n",
    "\n",
    "for grade in grades:\n",
    "    total += grade\n",
    "print(total/len(grades))"
   ]
  },
  {
   "cell_type": "code",
   "execution_count": 14,
   "metadata": {},
   "outputs": [
    {
     "name": "stdout",
     "output_type": "stream",
     "text": [
      "75.0\n"
     ]
    }
   ],
   "source": [
    "# Hicimos una funcion de promedio simple Funciona pero es lento. Las computadoras modernas pueden hacer muchas\n",
    "# tareas simultaneamente, especialmente, pero no solo las tareas que involucran matematicas.\n",
    "# Pandas y su suporte subyacente de Numpy tienen una serie de metodos para el computo llamado\n",
    "# vectorizacion. Esto trabaja con muchas de las funciones incluidas en Numpy\n",
    "\n",
    "import numpy as np\n",
    "\n",
    "# llamemos np.sum y le pasamos un item iterable, en este caso, nuestra serie de pandas\n",
    "\n",
    "total = np.sum(grades)\n",
    "print(total/len(grades))"
   ]
  },
  {
   "cell_type": "code",
   "execution_count": 15,
   "metadata": {},
   "outputs": [
    {
     "data": {
      "text/plain": [
       "0     92\n",
       "1    909\n",
       "2    864\n",
       "3    750\n",
       "4    515\n",
       "dtype: int32"
      ]
     },
     "execution_count": 15,
     "metadata": {},
     "output_type": "execute_result"
    }
   ],
   "source": [
    "# Ambos metodos crean el mismo valor. Veamos quien realmente es mas rapido a partir de la magic function de Jupyter\n",
    "\n",
    "\n",
    "# Crearemos una serie grande de numeros aletorios. Estoes usando para demostrar muchas tecnicas en pandas\n",
    "\n",
    "numbers=pd.Series(np.random.randint(0,1000,10000))\n",
    "\n",
    "\n",
    "# Ahora veramos el top de esta serie para ver si realmente se ve random. Esto lo hacemos con la funcion head()\n",
    "\n",
    "numbers.head()"
   ]
  },
  {
   "cell_type": "code",
   "execution_count": 16,
   "metadata": {},
   "outputs": [
    {
     "data": {
      "text/plain": [
       "10000"
      ]
     },
     "execution_count": 16,
     "metadata": {},
     "output_type": "execute_result"
    }
   ],
   "source": [
    "len(numbers)"
   ]
  },
  {
   "cell_type": "code",
   "execution_count": 17,
   "metadata": {},
   "outputs": [],
   "source": [
    "# Ahora que tenemos una gran serie, usemos la magic function con el simbolo de porcentaje.\n",
    "\n",
    "# En particular usaremos la funcin timeit. Esta funcion correra el codigo algunas veces para determinar, en promedio\n",
    "# cuanto se demora.\n",
    "\n",
    "# Si useamos timeit con nuestro loop original y nuestra solucion con numpy podemos comparar. Se puede especificar\n",
    "# el numero de loops que uno desea, por defecto son 1000 loops"
   ]
  },
  {
   "cell_type": "code",
   "execution_count": 20,
   "metadata": {},
   "outputs": [
    {
     "name": "stdout",
     "output_type": "stream",
     "text": [
      "2.06 ms ± 91.2 µs per loop (mean ± std. dev. of 7 runs, 100 loops each)\n"
     ]
    }
   ],
   "source": [
    "%%timeit -n 100\n",
    "\n",
    "total= 0\n",
    "\n",
    "for number in numbers:\n",
    "    total += number\n",
    "    \n",
    "total/len(numbers)"
   ]
  },
  {
   "cell_type": "code",
   "execution_count": 22,
   "metadata": {},
   "outputs": [],
   "source": [
    "# No esta nada mal. Fue muy rapido. Ahora intentemos con la vectorizacion\n"
   ]
  },
  {
   "cell_type": "code",
   "execution_count": 23,
   "metadata": {},
   "outputs": [
    {
     "name": "stdout",
     "output_type": "stream",
     "text": [
      "363 µs ± 22.9 µs per loop (mean ± std. dev. of 7 runs, 100 loops each)\n"
     ]
    }
   ],
   "source": [
    "%%timeit -n 100\n",
    "\n",
    "total= np.sum(numbers)\n",
    "total/len(numbers)"
   ]
  },
  {
   "cell_type": "code",
   "execution_count": 24,
   "metadata": {},
   "outputs": [],
   "source": [
    "# Esto es una diferencia impresionante en la velocidad y demuestra por que uno deberia ser consciente\n",
    "# de las caracteristicas de la computacion paralela y comenzar a pensar en terminos de programacion funcional"
   ]
  },
  {
   "cell_type": "code",
   "execution_count": 29,
   "metadata": {},
   "outputs": [
    {
     "name": "stdout",
     "output_type": "stream",
     "text": [
      "124 µs ± 9.28 µs per loop (mean ± std. dev. of 7 runs, 100 loops each)\n"
     ]
    }
   ],
   "source": [
    "%%timeit -n 100\n",
    "mean = np.mean(numbers)"
   ]
  },
  {
   "cell_type": "code",
   "execution_count": 30,
   "metadata": {},
   "outputs": [
    {
     "data": {
      "text/plain": [
       "0     92\n",
       "1    909\n",
       "2    864\n",
       "3    750\n",
       "4    515\n",
       "dtype: int32"
      ]
     },
     "execution_count": 30,
     "metadata": {},
     "output_type": "execute_result"
    }
   ],
   "source": [
    "# Poniendolo mas simple, la vectorizacion es la habilidad de una computadora para ejecutar multiples instrucciones\n",
    "# a la vez, y con los chips de alto rendimiento, especialmente las tarjetas graficas, puedes tener dramaticos\n",
    "# speedups. Las tarjetas graficas modernas pueden correr miles de instrucciones en paralelo.\n",
    "\n",
    "# Una caracteristica relacionada en pandas y numpy es el broadcasting. Con broadcasting podemos aplicar operaciones\n",
    "# a cada valor de la serie, cambiando la serie. Por ejemplo incrementar cada numero random en 2\n",
    "\n",
    "\n",
    "numbers.head()"
   ]
  },
  {
   "cell_type": "code",
   "execution_count": 31,
   "metadata": {},
   "outputs": [
    {
     "data": {
      "text/plain": [
       "0     94\n",
       "1    911\n",
       "2    866\n",
       "3    752\n",
       "4    517\n",
       "dtype: int32"
      ]
     },
     "execution_count": 31,
     "metadata": {},
     "output_type": "execute_result"
    }
   ],
   "source": [
    "numbers += 2\n",
    "# Aqui estamos aplicando el operador += directamente en el objeto Serie, no en un valor simple\n",
    "numbers.head()"
   ]
  },
  {
   "cell_type": "code",
   "execution_count": 32,
   "metadata": {},
   "outputs": [
    {
     "name": "stderr",
     "output_type": "stream",
     "text": [
      "/home/jrmelendezm/anaconda3/lib/python3.7/site-packages/ipykernel_launcher.py:8: FutureWarning: set_value is deprecated and will be removed in a future release. Please use .at[] or .iat[] accessors instead\n",
      "  \n"
     ]
    },
    {
     "data": {
      "text/plain": [
       "0     96\n",
       "1    913\n",
       "2    868\n",
       "3    754\n",
       "4    519\n",
       "dtype: int32"
      ]
     },
     "execution_count": 32,
     "metadata": {},
     "output_type": "execute_result"
    }
   ],
   "source": [
    "# Otra forma de hacer esto es iterando a traves de todos los items en la serie e incrementando el valor directamente\n",
    "# Pandas tambien soporta la iteracion a traves de la serie, permitiendo hacer unpack facilmente\n",
    "\n",
    "\n",
    "#Podemos usar iteritems() que retorna una etiqueta y un valor\n",
    "for label,value in numbers.iteritems():\n",
    "    # Ahora para el elemento que se retorna, llamamos set_value()\n",
    "    numbers.set_value(label,value+2)\n",
    "# Y ahora podemos chequear el resultado\n",
    "numbers.head()"
   ]
  },
  {
   "cell_type": "code",
   "execution_count": 33,
   "metadata": {},
   "outputs": [],
   "source": [
    "# Aqui vemos una advertencia dependiendo de la version de pandas que usemos. \n",
    "# Si te encuentras iterando mucho *en todo momento* en pandas, hay que preguntarse si estas haciendo las cosas\n",
    "# de la mejor manera.\n",
    "\n",
    "# Comparemos velocidades con unos cuantos loops"
   ]
  },
  {
   "cell_type": "code",
   "execution_count": 35,
   "metadata": {},
   "outputs": [
    {
     "name": "stdout",
     "output_type": "stream",
     "text": [
      "336 ms ± 6.95 ms per loop (mean ± std. dev. of 7 runs, 10 loops each)\n"
     ]
    }
   ],
   "source": [
    "%%timeit -n 10\n",
    "\n",
    "s = pd.Series(np.random.randint(0,1000,1000))\n",
    "# Escribamos de nuevo nuestro loop\n",
    "\n",
    "for label, value in s.iteritems():\n",
    "    s.loc[label]= value+2\n",
    "    \n"
   ]
  },
  {
   "cell_type": "code",
   "execution_count": null,
   "metadata": {},
   "outputs": [],
   "source": [
    "# Ahora usemos metodo broadcasting"
   ]
  },
  {
   "cell_type": "code",
   "execution_count": 36,
   "metadata": {},
   "outputs": [
    {
     "name": "stdout",
     "output_type": "stream",
     "text": [
      "681 µs ± 299 µs per loop (mean ± std. dev. of 7 runs, 10 loops each)\n"
     ]
    }
   ],
   "source": [
    "%%timeit -n 10\n",
    "\n",
    "s = pd.Series(np.random.randint(0,1000,1000))\n",
    "# usemos broadcasting con solo poner +=\n",
    "\n",
    "s+=2"
   ]
  },
  {
   "cell_type": "code",
   "execution_count": 37,
   "metadata": {},
   "outputs": [],
   "source": [
    "# Esto es significativamente rapido y mas consico, facil de leer. Las tipicas operaciones matematicas que podemos\n",
    "# esperar estan ya vectorizadas y en la documentacion de numpy se explica como crear funciones vectorizadas "
   ]
  },
  {
   "cell_type": "code",
   "execution_count": 38,
   "metadata": {},
   "outputs": [
    {
     "data": {
      "text/plain": [
       "0            1\n",
       "1            2\n",
       "2            3\n",
       "History    102\n",
       "dtype: int64"
      ]
     },
     "execution_count": 38,
     "metadata": {},
     "output_type": "execute_result"
    }
   ],
   "source": [
    "# Aunque es importante ser consciente de lo que pasa debaj, pandas automaticamente cambiara los tipos subyacentes\n",
    "# de Numpy de forma apropiada.\n",
    "\n",
    "# Por ejemplo, veamos una serie de unos pocos numeros y añadamos un valor nuevo\n",
    "\n",
    "s = pd.Series([1,2,3])\n",
    "\n",
    "s.loc['History'] = 102\n",
    "\n",
    "s"
   ]
  },
  {
   "cell_type": "code",
   "execution_count": 40,
   "metadata": {},
   "outputs": [
    {
     "data": {
      "text/plain": [
       "Alice      Physics\n",
       "Jack     Chemistry\n",
       "Molly      English\n",
       "Sam        History\n",
       "dtype: object"
      ]
     },
     "execution_count": 40,
     "metadata": {},
     "output_type": "execute_result"
    }
   ],
   "source": [
    "# Vemos que los tipos mixtos con index label no son un problema para pandas. Y, al contrario de set, podemos\n",
    "# tener index labels repetidos\n",
    "\n",
    "# Hasta ahora hemos usado series donde el index values es unico. Esto hace las series de pandas un poco diferente\n",
    "# a, por ejemplo, las bases de datos relacionales\n",
    "\n",
    "\n",
    "# Crearemos una serie con estudiantes y el curso que han tomado\n",
    "\n",
    "\n",
    "students_classes = pd.Series({'Alice': 'Physics',\n",
    "                              'Jack': 'Chemistry',\n",
    "                              'Molly': 'English',\n",
    "                              'Sam': 'History'})\n",
    "students_classes"
   ]
  },
  {
   "cell_type": "code",
   "execution_count": 41,
   "metadata": {},
   "outputs": [
    {
     "data": {
      "text/plain": [
       "Kelly    Philosophy\n",
       "Kelly          Arts\n",
       "Kelly          Math\n",
       "dtype: object"
      ]
     },
     "execution_count": 41,
     "metadata": {},
     "output_type": "execute_result"
    }
   ],
   "source": [
    "kelly_classes = pd.Series(['Philosophy', 'Arts', 'Math'], index= ['Kelly','Kelly','Kelly'])\n",
    "kelly_classes"
   ]
  },
  {
   "cell_type": "code",
   "execution_count": 43,
   "metadata": {},
   "outputs": [
    {
     "data": {
      "text/plain": [
       "Alice       Physics\n",
       "Jack      Chemistry\n",
       "Molly       English\n",
       "Sam         History\n",
       "Kelly    Philosophy\n",
       "Kelly          Arts\n",
       "Kelly          Math\n",
       "dtype: object"
      ]
     },
     "execution_count": 43,
     "metadata": {},
     "output_type": "execute_result"
    }
   ],
   "source": [
    "# Finalmente vamos a unir toda la data en una nueva series usando la funcion append()\n",
    "\n",
    "all_students_classes = students_classes.append(kelly_classes)\n",
    "\n",
    "# Esto crea una serie que tiene nuestras personas originales y tambien los cursos de Kelly\n",
    "\n",
    "all_students_classes"
   ]
  },
  {
   "cell_type": "code",
   "execution_count": 44,
   "metadata": {},
   "outputs": [
    {
     "data": {
      "text/plain": [
       "Kelly    Philosophy\n",
       "Kelly          Arts\n",
       "Kelly          Math\n",
       "dtype: object"
      ]
     },
     "execution_count": 44,
     "metadata": {},
     "output_type": "execute_result"
    }
   ],
   "source": [
    "all_students_classes.loc['Kelly']"
   ]
  },
  {
   "cell_type": "code",
   "execution_count": 45,
   "metadata": {},
   "outputs": [
    {
     "data": {
      "text/plain": [
       "Alice      Physics\n",
       "Jack     Chemistry\n",
       "Molly      English\n",
       "Sam        History\n",
       "dtype: object"
      ]
     },
     "execution_count": 45,
     "metadata": {},
     "output_type": "execute_result"
    }
   ],
   "source": [
    "# Hay unas consideraciones para tomar en cuanta al usar append. Primero, pandas toma la serie e intenta\n",
    "# inferir el mejor tipo de data para usar. En este ejemplo, todo es un string asi que no hay problema aqui\n",
    "# Segundo, el metodo append relametne no cambia los objetos por debajo, esto es en realidad una nueva serie\n",
    "# hecho por las dos anexadas juntas. Este es en realidad un patron comun en pandas.\n",
    "\n",
    "# De forma predeterminada, devolver un nuevo objeto en lugar de modificar uno in situ. Podemos imprimir las series\n",
    "# originales y ver que no hubo cambio\n",
    "\n",
    "students_classes"
   ]
  },
  {
   "cell_type": "markdown",
   "metadata": {},
   "source": [
    "En esta clase nos centramos en los tipos primarios de data de la libreria de pandas: Las series. aprendimos como consultar series con .loc y .iloc attributes de una serie que es una estructura de datos indexada, como unir dos series objects con append y la importancia de la vectorizacion"
   ]
  },
  {
   "cell_type": "markdown",
   "metadata": {},
   "source": [
    "### DataFrame Data Structure\n",
    "\n",
    "El DataFrame es el corazon de la liberia de Pandas. Es un objeto primario con el que se trabaja en el analisis \n",
    "y limpieza de datos.\n",
    "\n",
    "El DataFrame es conceptualmente un objeto de Series de dos dimensiones donde hay un indice y multiples columnas con cada columna teniendo una etiqueta (label)"
   ]
  }
 ],
 "metadata": {
  "kernelspec": {
   "display_name": "Python 3",
   "language": "python",
   "name": "python3"
  },
  "language_info": {
   "codemirror_mode": {
    "name": "ipython",
    "version": 3
   },
   "file_extension": ".py",
   "mimetype": "text/x-python",
   "name": "python",
   "nbconvert_exporter": "python",
   "pygments_lexer": "ipython3",
   "version": "3.7.1"
  }
 },
 "nbformat": 4,
 "nbformat_minor": 2
}
