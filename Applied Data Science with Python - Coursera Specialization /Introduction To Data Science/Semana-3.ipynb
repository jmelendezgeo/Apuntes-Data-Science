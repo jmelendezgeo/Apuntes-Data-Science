{
 "cells": [
  {
   "cell_type": "markdown",
   "metadata": {},
   "source": [
    "## More data Processing with Pandas\n",
    "- Reading assignments\n",
    "    - Chapter eight: Data Wrangling: Join, Combine, Reshape\n",
    "    - Chapter ten: Data Aggregation and group operations\n",
    "    - Chapter twelve: Advanced pandas\n",
    "- Merging DataFrames\n",
    "- Pandas Idiom\n",
    "- Group by\n",
    "- Scales\n",
    "- Pivot Table\n",
    "- Date/Time functionality"
   ]
  },
  {
   "cell_type": "code",
   "execution_count": 1,
   "metadata": {},
   "outputs": [],
   "source": [
    "# Aqui estaremos usando las teorias de conjuntos que se conocen de los Diagramas de Venn.\n",
    "# Este background se traducira utilizando Pandas. Hay que reconocer las distitnas convenciones \n",
    "# como outer-full-join, inner-join, etc y su relacion con las uniones e intercepciones\n",
    "\n",
    "import pandas as pd\n",
    "# Primero creamos dos DataFrames, staff y students\n",
    "staff_df = pd.DataFrame([{'Name': 'Kelly', 'Role': 'Director of HR',\n",
    "                          'Name': 'Sally', 'Role': 'Course liasion',\n",
    "                          'Name': 'James', 'Role': 'Grader'}])"
   ]
  },
  {
   "cell_type": "code",
   "execution_count": 2,
   "metadata": {},
   "outputs": [],
   "source": [
    "# Nos quedamos en 3:24"
   ]
  },
  {
   "cell_type": "code",
   "execution_count": null,
   "metadata": {},
   "outputs": [],
   "source": []
  }
 ],
 "metadata": {
  "kernelspec": {
   "display_name": "Python 3",
   "language": "python",
   "name": "python3"
  },
  "language_info": {
   "codemirror_mode": {
    "name": "ipython",
    "version": 3
   },
   "file_extension": ".py",
   "mimetype": "text/x-python",
   "name": "python",
   "nbconvert_exporter": "python",
   "pygments_lexer": "ipython3",
   "version": "3.7.1"
  }
 },
 "nbformat": 4,
 "nbformat_minor": 2
}
