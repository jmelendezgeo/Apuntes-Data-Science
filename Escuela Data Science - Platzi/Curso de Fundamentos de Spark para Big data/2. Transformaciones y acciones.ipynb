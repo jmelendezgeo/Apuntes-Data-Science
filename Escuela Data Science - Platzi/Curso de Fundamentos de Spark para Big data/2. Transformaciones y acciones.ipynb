{
 "cells": [
  {
   "cell_type": "code",
   "execution_count": 1,
   "metadata": {},
   "outputs": [],
   "source": [
    "from pyspark import SparkContext"
   ]
  },
  {
   "cell_type": "code",
   "execution_count": 2,
   "metadata": {},
   "outputs": [],
   "source": [
    "sc = SparkContext(master='local', appName=\"TransformacionesYAcciones\")"
   ]
  },
  {
   "cell_type": "code",
   "execution_count": 3,
   "metadata": {},
   "outputs": [
    {
     "data": {
      "text/plain": [
       "pyspark.rdd.RDD"
      ]
     },
     "execution_count": 3,
     "metadata": {},
     "output_type": "execute_result"
    }
   ],
   "source": [
    "rdd1 = sc.parallelize([1,2,3])\n",
    "type(rdd1)"
   ]
  },
  {
   "cell_type": "code",
   "execution_count": 4,
   "metadata": {},
   "outputs": [
    {
     "data": {
      "text/plain": [
       "[1, 2, 3]"
      ]
     },
     "execution_count": 4,
     "metadata": {},
     "output_type": "execute_result"
    }
   ],
   "source": [
    "# Para visualizar usamos funcion collect()\n",
    "rdd1.collect()"
   ]
  },
  {
   "cell_type": "code",
   "execution_count": 5,
   "metadata": {},
   "outputs": [
    {
     "data": {
      "text/html": [
       "\n",
       "        <div>\n",
       "            <p><b>SparkContext</b></p>\n",
       "\n",
       "            <p><a href=\"http://172.17.151.237:4043\">Spark UI</a></p>\n",
       "\n",
       "            <dl>\n",
       "              <dt>Version</dt>\n",
       "                <dd><code>v2.4.7</code></dd>\n",
       "              <dt>Master</dt>\n",
       "                <dd><code>local</code></dd>\n",
       "              <dt>AppName</dt>\n",
       "                <dd><code>TransformacionesYAcciones</code></dd>\n",
       "            </dl>\n",
       "        </div>\n",
       "        "
      ],
      "text/plain": [
       "<SparkContext master=local appName=TransformacionesYAcciones>"
      ]
     },
     "execution_count": 5,
     "metadata": {},
     "output_type": "execute_result"
    }
   ],
   "source": [
    "sc"
   ]
  },
  {
   "cell_type": "code",
   "execution_count": 6,
   "metadata": {},
   "outputs": [
    {
     "data": {
      "text/plain": [
       "'/home/rb/Platzi/Escuela de Data Science/22.- Curso Introductorio de Spark'"
      ]
     },
     "execution_count": 6,
     "metadata": {},
     "output_type": "execute_result"
    }
   ],
   "source": [
    "pwd"
   ]
  },
  {
   "cell_type": "code",
   "execution_count": 7,
   "metadata": {},
   "outputs": [
    {
     "name": "stdout",
     "output_type": "stream",
     "text": [
      "deporte.csv\t deportistaError.csv  modelo_relacional.jpg\r\n",
      "deportista.csv\t evento.csv\t      paises.csv\r\n",
      "deportista2.csv  juegos.csv\t      resultados.csv\r\n"
     ]
    }
   ],
   "source": [
    "!ls ./files/"
   ]
  },
  {
   "cell_type": "code",
   "execution_count": 8,
   "metadata": {},
   "outputs": [],
   "source": [
    "path = '/home/rb/Platzi/Escuela de Data Science/22.- Curso Introductorio de Spark/files/'\n",
    "\n",
    "equiposOlimpicosRDD = sc.textFile(path+'paises.csv') \\\n",
    "    .map(lambda line: line.split(\",\"))"
   ]
  },
  {
   "cell_type": "code",
   "execution_count": 9,
   "metadata": {},
   "outputs": [
    {
     "data": {
      "text/plain": [
       "[['id', 'equipo', 'sigla'],\n",
       " ['1', '30. Februar', 'AUT'],\n",
       " ['2', 'A North American Team', 'MEX'],\n",
       " ['3', 'Acipactli', 'MEX'],\n",
       " ['4', 'Acturus', 'ARG'],\n",
       " ['5', 'Afghanistan', 'AFG'],\n",
       " ['6', 'Akatonbo', 'IRL'],\n",
       " ['7', 'Alain IV', 'SUI'],\n",
       " ['8', 'Albania', 'ALB'],\n",
       " ['9', 'Alcaid', 'POR'],\n",
       " ['10', 'Alcyon-6', 'FRA'],\n",
       " ['11', 'Alcyon-7', 'FRA'],\n",
       " ['12', 'Aldebaran', 'ITA'],\n",
       " ['13', 'Aldebaran II', 'ITA'],\n",
       " ['14', 'Aletta', 'IRL']]"
      ]
     },
     "execution_count": 9,
     "metadata": {},
     "output_type": "execute_result"
    }
   ],
   "source": [
    "# muestra la data con  take(n), evita usar collect() \n",
    "equiposOlimpicosRDD.take(15)"
   ]
  },
  {
   "cell_type": "markdown",
   "metadata": {},
   "source": [
    "### Acciones de modificacion sobre RDDs"
   ]
  },
  {
   "cell_type": "code",
   "execution_count": 10,
   "metadata": {},
   "outputs": [
    {
     "data": {
      "text/plain": [
       "231"
      ]
     },
     "execution_count": 10,
     "metadata": {},
     "output_type": "execute_result"
    }
   ],
   "source": [
    "# Contar cuantas Siglas tenemos\n",
    "equiposOlimpicosRDD.map(lambda x: (x[2])).distinct().count()"
   ]
  },
  {
   "cell_type": "code",
   "execution_count": 11,
   "metadata": {},
   "outputs": [
    {
     "data": {
      "text/plain": [
       "[('sigla', 1), ('AUT', 11), ('MEX', 9), ('ARG', 18), ('AFG', 1)]"
      ]
     },
     "execution_count": 11,
     "metadata": {},
     "output_type": "execute_result"
    }
   ],
   "source": [
    "# Agrupacion a partir de siglas y obtener cantidad de equipos por pais\n",
    "equiposOlimpicosRDD \\\n",
    "    .map(lambda x: (x[2], x[1]))\\\n",
    "    .groupByKey() \\\n",
    "    .mapValues(len).take(5)"
   ]
  },
  {
   "cell_type": "code",
   "execution_count": 12,
   "metadata": {},
   "outputs": [
    {
     "data": {
      "text/plain": [
       "[('sigla', ['equipo']),\n",
       " ('AUT',\n",
       "  ['30. Februar',\n",
       "   'Austria',\n",
       "   'Austria-1',\n",
       "   'Austria-2',\n",
       "   'Breslau',\n",
       "   'Brigantia',\n",
       "   'Donar III',\n",
       "   'Evita VI',\n",
       "   'May-Be 1960',\n",
       "   '\"R.-V. Germania; Leitmeritz\"',\n",
       "   'Surprise']),\n",
       " ('MEX',\n",
       "  ['A North American Team',\n",
       "   'Acipactli',\n",
       "   'Chamukina',\n",
       "   'Mexico',\n",
       "   'Mexico-1',\n",
       "   'Mexico-2',\n",
       "   'Nausikaa 4',\n",
       "   'Tlaloc',\n",
       "   'Xolotl'])]"
      ]
     },
     "execution_count": 12,
     "metadata": {},
     "output_type": "execute_result"
    }
   ],
   "source": [
    "# Agrupacion a partir de siglas y obtener cantidad de equipos por pais\n",
    "equiposOlimpicosRDD \\\n",
    "    .map(lambda x: (x[2], x[1])) \\\n",
    "    .groupByKey() \\\n",
    "    .mapValues(list).take(3)"
   ]
  },
  {
   "cell_type": "code",
   "execution_count": 13,
   "metadata": {},
   "outputs": [
    {
     "data": {
      "text/plain": [
       "[['4', 'Acturus', 'ARG'],\n",
       " ['37', 'Antares', 'ARG'],\n",
       " ['42', 'Arcturus', 'ARG'],\n",
       " ['43', 'Ardilla', 'ARG'],\n",
       " ['45', 'Argentina', 'ARG'],\n",
       " ['46', 'Argentina-1', 'ARG'],\n",
       " ['47', 'Argentina-2', 'ARG'],\n",
       " ['119', 'Blue Red', 'ARG'],\n",
       " ['238', 'Covunco III', 'ARG'],\n",
       " ['252', 'Cupidon III', 'ARG'],\n",
       " ['288', 'Djinn', 'ARG'],\n",
       " ['436', 'Gullvinge', 'ARG'],\n",
       " ['644', 'Matrero II', 'ARG'],\n",
       " ['672', 'Mizar', 'ARG'],\n",
       " ['774', 'Pampero', 'ARG'],\n",
       " ['843', 'Rampage', 'ARG'],\n",
       " ['1031', 'Tango', 'ARG'],\n",
       " ['1162', 'Wiking', 'ARG']]"
      ]
     },
     "execution_count": 13,
     "metadata": {},
     "output_type": "execute_result"
    }
   ],
   "source": [
    "# Obtener los datos solo de un pais o contenido con filter()\n",
    "equiposArgentinos = equiposOlimpicosRDD.filter(lambda l: \"ARG\" in l)\n",
    "equiposArgentinos.collect()"
   ]
  },
  {
   "cell_type": "markdown",
   "metadata": {},
   "source": [
    "**Por que no usar collect()**, si tuviéramos un servidor y su cluster correspondiente collect() hace que maquina server **driver** pida a todos cluster **ejecutores** que envíen la información que estaba distribuida respecto a esa consulta y la centralicen en el driver, imagina que tienes 10 millones de registros, pero tu computadora quizá solo soporte 1000, o peor aun sobrecargues la red, y consumas recursos criticos en produccion. **NUNCA USES COLLECT()** a menos de que los datos sepas de antemano que son pocos y nunca en produccion, mejor toma muestras con **take()**"
   ]
  },
  {
   "cell_type": "code",
   "execution_count": 14,
   "metadata": {},
   "outputs": [
    {
     "data": {
      "text/plain": [
       "1185"
      ]
     },
     "execution_count": 14,
     "metadata": {},
     "output_type": "execute_result"
    }
   ],
   "source": [
    "# cuenta todos los valores, nada recomentable para datos extensos\n",
    "equiposOlimpicosRDD.count()"
   ]
  },
  {
   "cell_type": "code",
   "execution_count": 15,
   "metadata": {},
   "outputs": [
    {
     "data": {
      "text/plain": [
       "1185"
      ]
     },
     "execution_count": 15,
     "metadata": {},
     "output_type": "execute_result"
    }
   ],
   "source": [
    "# CountApprox(n) toma un valor en milisegundos y devuelve los valores contados si termina,\n",
    "# si el tiempo fue insuficiente la ejecucion termina y devuelve la cuenta hasta la terminacion.\n",
    "equiposOlimpicosRDD.countApprox(20)"
   ]
  },
  {
   "cell_type": "markdown",
   "metadata": {},
   "source": [
    "### Acciones de conteo sobre RDDs"
   ]
  },
  {
   "cell_type": "code",
   "execution_count": 16,
   "metadata": {},
   "outputs": [
    {
     "name": "stdout",
     "output_type": "stream",
     "text": [
      "deporte.csv\t deportistaError.csv  modelo_relacional.jpg\r\n",
      "deportista.csv\t evento.csv\t      paises.csv\r\n",
      "deportista2.csv  juegos.csv\t      resultados.csv\r\n"
     ]
    }
   ],
   "source": [
    "# Visualizamos los csv disponibles\n",
    "!ls ./files/"
   ]
  },
  {
   "cell_type": "code",
   "execution_count": 17,
   "metadata": {},
   "outputs": [],
   "source": [
    "# importamos ambos\n",
    "deportistaOlimpicoRDD = sc.textFile(path+'deportista.csv') \\\n",
    "    .map(lambda line: line.split(\",\"))\n",
    "\n",
    "deportistaOlimpicoRDD2 = sc.textFile(path+'deportista2.csv') \\\n",
    "    .map(lambda line: line.split(\",\"))\n",
    "\n",
    "deportistaOlimpicoRDD = deportistaOlimpicoRDD.union(deportistaOlimpicoRDD2)"
   ]
  },
  {
   "cell_type": "code",
   "execution_count": 18,
   "metadata": {},
   "outputs": [],
   "source": [
    "# Unimos los RDD con union(). Spark solo tiene esta operacion\n",
    "deportistaOlimpicoRDD = deportistaOlimpicoRDD.union(deportistaOlimpicoRDD2)"
   ]
  },
  {
   "cell_type": "markdown",
   "metadata": {},
   "source": [
    "Como realizamos una operacion tipo modelo de caja negra es buena practica usar un **count()** para determinar la calidad de los datos que poseen los archivos, esto fuerza a utilizar todo el contenido del RDD.\n",
    "\n",
    "Si los archivos vienen sanos o tienen la calidad minima para que spark pueda utilizarlos esta operacion se realizara sin ningun problema."
   ]
  },
  {
   "cell_type": "code",
   "execution_count": 19,
   "metadata": {},
   "outputs": [
    {
     "data": {
      "text/plain": [
       "135572"
      ]
     },
     "execution_count": 19,
     "metadata": {},
     "output_type": "execute_result"
    }
   ],
   "source": [
    "deportistaOlimpicoRDD.count()"
   ]
  },
  {
   "cell_type": "code",
   "execution_count": 20,
   "metadata": {},
   "outputs": [
    {
     "data": {
      "text/plain": [
       "[['id', 'equipo', 'sigla'], ['999', 'Stella-2', 'NOR']]"
      ]
     },
     "execution_count": 20,
     "metadata": {},
     "output_type": "execute_result"
    }
   ],
   "source": [
    "# ver contenido en equipos olimpicos\n",
    "equiposOlimpicosRDD.top(2)"
   ]
  },
  {
   "cell_type": "code",
   "execution_count": 21,
   "metadata": {},
   "outputs": [
    {
     "data": {
      "text/plain": [
       "[['deportista_id', 'nombre', 'genero', 'edad', 'altura', 'peso', 'equipo_id'],\n",
       " ['99999', 'Alexander Grant Alick Rennie', '1', '32', '182', '71', '967']]"
      ]
     },
     "execution_count": 21,
     "metadata": {},
     "output_type": "execute_result"
    }
   ],
   "source": [
    "deportistaOlimpicoRDD.top(2)"
   ]
  },
  {
   "cell_type": "markdown",
   "metadata": {},
   "source": [
    "revisamos el modelo relacional\n",
    "\n",
    "<img src=\"files/modelo_relacional.jpg\">"
   ]
  },
  {
   "cell_type": "code",
   "execution_count": 22,
   "metadata": {},
   "outputs": [
    {
     "data": {
      "text/plain": [
       "[('199', (['1', 'A Dijiang', '1', '24', '180', '80'], 'CHN')),\n",
       " ('199', (['2', 'A Lamusi', '1', '23', '170', '60'], 'CHN')),\n",
       " ('199', (['602', 'Abudoureheman', '1', '22', '182', '75'], 'CHN')),\n",
       " ('199', (['1463', 'Ai Linuer', '1', '25', '160', '62'], 'CHN')),\n",
       " ('199', (['1464', 'Ai Yanhan', '2', '14', '168', '54'], 'CHN')),\n",
       " ('199', (['3605', 'An Weijiang', '1', '22', '178', '72'], 'CHN'))]"
      ]
     },
     "execution_count": 22,
     "metadata": {},
     "output_type": "execute_result"
    }
   ],
   "source": [
    "# Seleccionamos las columnas ID para hacer un join\n",
    "deportistaOlimpicoRDD \\\n",
    "    .map(lambda deportista: [deportista[-1], deportista[:-1]]) \\\n",
    "    .join(equiposOlimpicosRDD.map(lambda equipo: [equipo[0], equipo[2]]))\\\n",
    "    .take(6)"
   ]
  },
  {
   "cell_type": "code",
   "execution_count": 23,
   "metadata": {},
   "outputs": [
    {
     "data": {
      "text/plain": [
       "[('362', (['131505', 'Steven Woodburn', '1', '24', '185', '90'], 'FRA')),\n",
       " ('967', (['13626', 'Jill Brresen', '2', '22', '170', '57'], 'RSA')),\n",
       " ('482', (['44299', 'Gumundur Gumundsson', '1', '23', '174', '77'], 'ISL')),\n",
       " ('970', (['68062', 'Lee MinHui', '2', '28', '174', '65'], 'KOR')),\n",
       " ('794', (['92442', 'Luis Paz Zoldan', '1', '19', '187', '82'], 'PER')),\n",
       " ('413', (['26822', 'Jared Mark Deacon', '1', '24', '185', '77'], 'GBR'))]"
      ]
     },
     "execution_count": 23,
     "metadata": {},
     "output_type": "execute_result"
    }
   ],
   "source": [
    "# Utilisando takeSample( repetidos, muestra, semilla)\n",
    "deportistaOlimpicoRDD \\\n",
    "    .map(lambda deportista: [deportista[-1], deportista[:-1]]) \\\n",
    "    .join(equiposOlimpicosRDD.map(lambda equipo: [equipo[0], equipo[2]]))\\\n",
    "    .takeSample(False, 6, 25)"
   ]
  },
  {
   "cell_type": "code",
   "execution_count": 24,
   "metadata": {},
   "outputs": [],
   "source": [
    "resultado = sc.textFile(path+'resultados.csv') \\\n",
    "    .map(lambda line: line.split(\",\"))"
   ]
  },
  {
   "cell_type": "code",
   "execution_count": 25,
   "metadata": {},
   "outputs": [],
   "source": [
    "resultadoGanador = resultado.filter(lambda w: 'NA' not in w[1])"
   ]
  },
  {
   "cell_type": "code",
   "execution_count": 26,
   "metadata": {},
   "outputs": [
    {
     "data": {
      "text/plain": [
       "[['resultado_id', 'medalla', 'deportista_id', 'juego_id', 'evento_id'],\n",
       " ['4', 'Gold', '4', '2', '4']]"
      ]
     },
     "execution_count": 26,
     "metadata": {},
     "output_type": "execute_result"
    }
   ],
   "source": [
    "resultadoGanador.take(2)"
   ]
  },
  {
   "cell_type": "markdown",
   "metadata": {},
   "source": [
    "**Reto**: hacer un join con equipos y deportista para obtener valores importantes"
   ]
  },
  {
   "cell_type": "code",
   "execution_count": 27,
   "metadata": {},
   "outputs": [
    {
     "data": {
      "text/plain": [
       "[('507',\n",
       "  ((['18909', 'Enrico Castelli', '1', '27', '0', '0'], 'ITA'), 'Silver')),\n",
       " ('705',\n",
       "  ((['99600', 'John Philip Ernest Marie Flip Regout', '1', '21', '0', '0'],\n",
       "    'NED'),\n",
       "   'Silver')),\n",
       " ('399',\n",
       "  ((['15937', 'Magdalena Brzeska Peschel Sabolocka ', '2', '18', '173', '48'],\n",
       "    'GER'),\n",
       "   'Silver')),\n",
       " ('705',\n",
       "  ((['13408',\n",
       "     'Anna Johanna Geertruida Maria Annie Borckink',\n",
       "     '2',\n",
       "     '24',\n",
       "     '0',\n",
       "     '0'],\n",
       "    'NED'),\n",
       "   'Bronze')),\n",
       " ('705',\n",
       "  ((['48310', 'Johannes Hendricus Heuckelbach', '1', '27', '0', '0'], 'NED'),\n",
       "   'Gold')),\n",
       " ('619',\n",
       "  ((['59062', 'Noraseela Mohd Khalid', '2', '32', '166', '55'], 'MAS'),\n",
       "   'Gold'))]"
      ]
     },
     "execution_count": 27,
     "metadata": {},
     "output_type": "execute_result"
    }
   ],
   "source": [
    "# Approach 1: En el supuesto de un deportista solo tiene una medalla\n",
    "deportistaOlimpicoRDD \\\n",
    "    .map(lambda deportista: [deportista[-1], deportista[:-1]]) \\\n",
    "    .join(equiposOlimpicosRDD.map(lambda equipo: [equipo[0], equipo[2]]))\\\n",
    "    .join(resultadoGanador.map(lambda resultado: [resultado[2], resultado[1]])) \\\n",
    "    .takeSample(False, 6, 25)"
   ]
  },
  {
   "cell_type": "markdown",
   "metadata": {},
   "source": [
    "### Solucion al reto por el profesor"
   ]
  },
  {
   "cell_type": "code",
   "execution_count": 28,
   "metadata": {},
   "outputs": [],
   "source": [
    "deportistaPaises = deportistaOlimpicoRDD \\\n",
    "    .map(lambda l: [l[-1], l[:-1]]) \\\n",
    "    .join(equiposOlimpicosRDD.map(lambda x: [x[0], x[2]]))"
   ]
  },
  {
   "cell_type": "code",
   "execution_count": 29,
   "metadata": {},
   "outputs": [
    {
     "data": {
      "text/plain": [
       "[('74',\n",
       "  ((['65', 'Patimat Abakarova', '2', '21', '165', '49'], 'AZE'), 'Gold')),\n",
       " ('74', ((['129', 'Ruslan Abbasov', '1', '22', '181', '74'], 'AZE'), 'Gold')),\n",
       " ('74', ((['130', 'Tural Abbasov', '1', '18', '182', '76'], 'AZE'), 'Gold')),\n",
       " ('74', ((['131', 'Tran Abbasova', '2', '33', '159', '53'], 'AZE'), 'Gold')),\n",
       " ('74',\n",
       "  ((['335', 'Abdulqdir Abdullayev', '1', '28', '188', '91'], 'AZE'), 'Gold')),\n",
       " ('74',\n",
       "  ((['336', 'Arif Yadulla Abdullayev', '1', '27', '164', '60'], 'AZE'),\n",
       "   'Gold'))]"
      ]
     },
     "execution_count": 29,
     "metadata": {},
     "output_type": "execute_result"
    }
   ],
   "source": [
    "deportistaPaises.join(resultadoGanador).take(6)"
   ]
  },
  {
   "cell_type": "markdown",
   "metadata": {},
   "source": [
    "### Operaciones Numéricas"
   ]
  },
  {
   "cell_type": "code",
   "execution_count": 30,
   "metadata": {},
   "outputs": [],
   "source": [
    "# el valor de puntaje de paises a lo largo del tiempo\n",
    "valoresMedallas = {'Gold': 7,\n",
    "                   'Silver': 5,\n",
    "                   'Bronze': 4}"
   ]
  },
  {
   "cell_type": "code",
   "execution_count": 31,
   "metadata": {},
   "outputs": [],
   "source": [
    "paisesMedallas = deportistaPaises.join(resultadoGanador)"
   ]
  },
  {
   "cell_type": "code",
   "execution_count": 32,
   "metadata": {},
   "outputs": [],
   "source": [
    "paisesMedallas = paisesMedallas \\\n",
    "    .map(lambda x: (x[1][0][-1], valoresMedallas[x[1][1] ] ) ) "
   ]
  },
  {
   "cell_type": "code",
   "execution_count": 33,
   "metadata": {},
   "outputs": [
    {
     "data": {
      "text/plain": [
       "[('AZE', 7), ('AZE', 7), ('AZE', 7), ('AZE', 7), ('AZE', 7)]"
      ]
     },
     "execution_count": 33,
     "metadata": {},
     "output_type": "execute_result"
    }
   ],
   "source": [
    "paisesMedallas.take(5)"
   ]
  },
  {
   "cell_type": "code",
   "execution_count": 34,
   "metadata": {},
   "outputs": [],
   "source": [
    "from operator import add\n",
    "\n",
    "conclusion = paisesMedallas.reduceByKey((add)) \\\n",
    "    .sortBy(lambda x:x[1], ascending=False)"
   ]
  },
  {
   "cell_type": "code",
   "execution_count": 35,
   "metadata": {},
   "outputs": [
    {
     "data": {
      "text/plain": [
       "[('CAN', 32538),\n",
       " ('ARG', 12520),\n",
       " ('HUN', 10860),\n",
       " ('MEX', 6124),\n",
       " ('RSA', 3788),\n",
       " ('BLR', 3580),\n",
       " ('LTU', 1535),\n",
       " ('MGL', 1460),\n",
       " ('USA', 1342),\n",
       " ('AZE', 1218)]"
      ]
     },
     "execution_count": 35,
     "metadata": {},
     "output_type": "execute_result"
    }
   ],
   "source": [
    "conclusion.take(10)"
   ]
  },
  {
   "cell_type": "markdown",
   "metadata": {},
   "source": [
    "## MI INTERPRETACION"
   ]
  },
  {
   "cell_type": "code",
   "execution_count": 36,
   "metadata": {},
   "outputs": [
    {
     "data": {
      "text/plain": [
       "[['resultado_id', 'medalla', 'deportista_id', 'juego_id', 'evento_id'],\n",
       " ['1', 'NA', '1', '39', '1'],\n",
       " ['2', 'NA', '2', '49', '2'],\n",
       " ['3', 'NA', '3', '7', '3'],\n",
       " ['4', 'Gold', '4', '2', '4'],\n",
       " ['5', 'NA', '5', '36', '5'],\n",
       " ['6', 'NA', '5', '36', '6'],\n",
       " ['7', 'NA', '5', '38', '5'],\n",
       " ['8', 'NA', '5', '38', '6'],\n",
       " ['9', 'NA', '5', '40', '5']]"
      ]
     },
     "execution_count": 36,
     "metadata": {},
     "output_type": "execute_result"
    }
   ],
   "source": [
    "resultado.take(10)\n",
    "# utilizar deportista_id y medalla"
   ]
  },
  {
   "cell_type": "code",
   "execution_count": 37,
   "metadata": {},
   "outputs": [
    {
     "data": {
      "text/plain": [
       "[['deportista_id', 'nombre', 'genero', 'edad', 'altura', 'peso', 'equipo_id'],\n",
       " ['1', 'A Dijiang', '1', '24', '180', '80', '199'],\n",
       " ['2', 'A Lamusi', '1', '23', '170', '60', '199'],\n",
       " ['3', 'Gunnar Nielsen Aaby', '1', '24', '0', '0', '273'],\n",
       " ['4', 'Edgar Lindenau Aabye', '1', '34', '0', '0', '278'],\n",
       " ['5', 'Christine Jacoba Aaftink', '2', '21', '185', '82', '705'],\n",
       " ['6', 'Per Knut Aaland', '1', '31', '188', '75', '1096'],\n",
       " ['7', 'John Aalberg', '1', '31', '183', '72', '1096'],\n",
       " ['8', 'Cornelia Cor Aalten Strannood ', '2', '18', '168', '0', '705'],\n",
       " ['9', 'Antti Sami Aalto', '1', '26', '186', '96', '350']]"
      ]
     },
     "execution_count": 37,
     "metadata": {},
     "output_type": "execute_result"
    }
   ],
   "source": [
    "deportistaOlimpicoRDD.take(10)\n",
    "#utilizar deportista_id y equipo_id"
   ]
  },
  {
   "cell_type": "code",
   "execution_count": 73,
   "metadata": {
    "scrolled": false
   },
   "outputs": [
    {
     "data": {
      "text/plain": [
       "[['1', '30. Februar', 'AUT'],\n",
       " ['10', 'Alcyon-6', 'FRA'],\n",
       " ['100', 'Belgium-4', 'BEL'],\n",
       " ['1000', 'Struten', 'NOR'],\n",
       " ['1001', 'Studenternes Roklub-2', 'NOR'],\n",
       " ['1002', 'Subbnboana', 'GER'],\n",
       " ['1003', 'Sudan', 'SUD'],\n",
       " ['1004', 'Sunrise', 'NED'],\n",
       " ['1005', 'Sunshine', 'SWE'],\n",
       " ['1006', 'Suriname', 'SUR']]"
      ]
     },
     "execution_count": 73,
     "metadata": {},
     "output_type": "execute_result"
    }
   ],
   "source": [
    "equiposOlimpicosRDD \\\n",
    ".sortBy(lambda x: x[0])\\\n",
    ".take(10)"
   ]
  },
  {
   "cell_type": "code",
   "execution_count": 39,
   "metadata": {},
   "outputs": [],
   "source": [
    "# el valor de puntaje de paises a lo largo del tiempo\n",
    "valoresMedallas = {'Gold': 7,\n",
    "                   'Silver': 5,\n",
    "                   'Bronze': 4}"
   ]
  },
  {
   "cell_type": "code",
   "execution_count": 97,
   "metadata": {},
   "outputs": [
    {
     "data": {
      "text/plain": [
       "[('deportista_id', 'Medallas'),\n",
       " (4, 8),\n",
       " (15, 9),\n",
       " (16, 5),\n",
       " (17, 30),\n",
       " (20, 47),\n",
       " (21, 8),\n",
       " (25, 6),\n",
       " (29, 5),\n",
       " (30, 6),\n",
       " (37, 5),\n",
       " (38, 6),\n",
       " (40, 12),\n",
       " (42, 8),\n",
       " (56, 8),\n",
       " (62, 5),\n",
       " (63, 5),\n",
       " (65, 5),\n",
       " (67, 6),\n",
       " (72, 8),\n",
       " (73, 20),\n",
       " (76, 8),\n",
       " (80, 8),\n",
       " (84, 6),\n",
       " (85, 8),\n",
       " (86, 5),\n",
       " (90, 6),\n",
       " (93, 8),\n",
       " (99, 6),\n",
       " (100, 5),\n",
       " (103, 5),\n",
       " (106, 22),\n",
       " (107, 20),\n",
       " (108, 20),\n",
       " (139, 5),\n",
       " (143, 5),\n",
       " (145, 5),\n",
       " (150, 8),\n",
       " (153, 6),\n",
       " (165, 6),\n",
       " (250, 5),\n",
       " (259, 5),\n",
       " (297, 8),\n",
       " (298, 6),\n",
       " (316, 8),\n",
       " (337, 8),\n",
       " (339, 13),\n",
       " (351, 8),\n",
       " (357, 6),\n",
       " (359, 8),\n",
       " (367, 8),\n",
       " (379, 5),\n",
       " (385, 6),\n",
       " (391, 6),\n",
       " (392, 8),\n",
       " (394, 6),\n",
       " (395, 5),\n",
       " (399, 6),\n",
       " (401, 8),\n",
       " (404, 15),\n",
       " (411, 8),\n",
       " (416, 10),\n",
       " (423, 8),\n",
       " (424, 5),\n",
       " (428, 6),\n",
       " (443, 8),\n",
       " (454, 8),\n",
       " (455, 24),\n",
       " (460, 10),\n",
       " (465, 5),\n",
       " (495, 6),\n",
       " (507, 17),\n",
       " (509, 5),\n",
       " (514, 6),\n",
       " (519, 13),\n",
       " (521, 8),\n",
       " (527, 5),\n",
       " (529, 6),\n",
       " (543, 5),\n",
       " (547, 6),\n",
       " (548, 5),\n",
       " (576, 5),\n",
       " (580, 5),\n",
       " (582, 8),\n",
       " (583, 15),\n",
       " (608, 8),\n",
       " (610, 5),\n",
       " (618, 5),\n",
       " (619, 8),\n",
       " (627, 5),\n",
       " (629, 8),\n",
       " (634, 5),\n",
       " (639, 6),\n",
       " (646, 5),\n",
       " (654, 6),\n",
       " (669, 5),\n",
       " (670, 6),\n",
       " (673, 5),\n",
       " (674, 5),\n",
       " (680, 5),\n",
       " (690, 10),\n",
       " (697, 8),\n",
       " (698, 8),\n",
       " (699, 8),\n",
       " (702, 16),\n",
       " (705, 24),\n",
       " (706, 6),\n",
       " (716, 8),\n",
       " (723, 5),\n",
       " (727, 5),\n",
       " (745, 5),\n",
       " (762, 8),\n",
       " (766, 6),\n",
       " (772, 8),\n",
       " (775, 5),\n",
       " (777, 8),\n",
       " (785, 6),\n",
       " (807, 10),\n",
       " (813, 6),\n",
       " (818, 8),\n",
       " (830, 11),\n",
       " (832, 15),\n",
       " (836, 13),\n",
       " (837, 5),\n",
       " (840, 5),\n",
       " (846, 20),\n",
       " (849, 8),\n",
       " (850, 8),\n",
       " (851, 6),\n",
       " (882, 5),\n",
       " (884, 5),\n",
       " (896, 6),\n",
       " (908, 6),\n",
       " (918, 11),\n",
       " (923, 6),\n",
       " (925, 8),\n",
       " (953, 12),\n",
       " (956, 6),\n",
       " (957, 5),\n",
       " (962, 8),\n",
       " (963, 8),\n",
       " (964, 6),\n",
       " (966, 6),\n",
       " (967, 6),\n",
       " (968, 5),\n",
       " (973, 5),\n",
       " (974, 8),\n",
       " (975, 5),\n",
       " (977, 20),\n",
       " (980, 23),\n",
       " (1000, 5),\n",
       " (1017, 49),\n",
       " (1020, 10),\n",
       " (1023, 5),\n",
       " (1025, 6),\n",
       " (1046, 6),\n",
       " (1071, 6),\n",
       " (1085, 5),\n",
       " (1088, 6),\n",
       " (1094, 5),\n",
       " (1095, 5),\n",
       " (1104, 6),\n",
       " (1107, 5),\n",
       " (1109, 12),\n",
       " (1114, 10),\n",
       " (1122, 8),\n",
       " (1131, 6),\n",
       " (1144, 5),\n",
       " (1147, 14),\n",
       " (1169, 15),\n",
       " (1173, 20),\n",
       " (1181, 22),\n",
       " (1188, 6),\n",
       " (1191, 8),\n",
       " (1192, 22),\n",
       " (1201, 5),\n",
       " (1208, 8),\n",
       " (1211, 8),\n",
       " (1220, 8),\n",
       " (1221, 8),\n",
       " (1249, 5),\n",
       " (1254, 5),\n",
       " (1262, 6),\n",
       " (1270, 5),\n",
       " (1301, 6),\n",
       " (1313, 6),\n",
       " (1322, 6),\n",
       " (1323, 8),\n",
       " (1333, 5),\n",
       " (1336, 5),\n",
       " (1340, 5),\n",
       " (1341, 6),\n",
       " (1342, 5),\n",
       " (1346, 6),\n",
       " (1348, 6),\n",
       " (1350, 8),\n",
       " (1356, 9),\n",
       " (1359, 6),\n",
       " (1364, 5),\n",
       " (1374, 8),\n",
       " (1378, 8),\n",
       " (1379, 5),\n",
       " (1380, 20),\n",
       " (1386, 5),\n",
       " (1389, 8),\n",
       " (1391, 8),\n",
       " (1400, 8),\n",
       " (1402, 5),\n",
       " (1408, 8),\n",
       " (1409, 8),\n",
       " (1412, 13),\n",
       " (1414, 5),\n",
       " (1424, 5),\n",
       " (1435, 11),\n",
       " (1442, 6),\n",
       " (1443, 8),\n",
       " (1444, 8),\n",
       " (1447, 6),\n",
       " (1449, 6),\n",
       " (1466, 10),\n",
       " (1467, 14),\n",
       " (1469, 6),\n",
       " (1478, 6),\n",
       " (1480, 6),\n",
       " (1481, 5),\n",
       " (1483, 25),\n",
       " (1485, 5),\n",
       " (1487, 5),\n",
       " (1489, 5),\n",
       " (1498, 34),\n",
       " (1500, 8),\n",
       " (1503, 8),\n",
       " (1512, 5),\n",
       " (1530, 6),\n",
       " (1531, 6),\n",
       " (1534, 17),\n",
       " (1538, 8),\n",
       " (1540, 8),\n",
       " (1546, 5),\n",
       " (1551, 5),\n",
       " (1554, 20),\n",
       " (1556, 6),\n",
       " (1561, 5),\n",
       " (1564, 8),\n",
       " (1569, 14),\n",
       " (1574, 10),\n",
       " (1579, 8),\n",
       " (1581, 5),\n",
       " (1595, 10),\n",
       " (1601, 6),\n",
       " (1618, 13),\n",
       " (1619, 8),\n",
       " (1622, 8),\n",
       " (1634, 8),\n",
       " (1637, 8),\n",
       " (1639, 25),\n",
       " (1647, 5),\n",
       " (1649, 8),\n",
       " (1650, 6),\n",
       " (1652, 6),\n",
       " (1654, 5),\n",
       " (1659, 5),\n",
       " (1662, 8),\n",
       " (1665, 8),\n",
       " (1673, 8),\n",
       " (1676, 8),\n",
       " (1678, 8),\n",
       " (1682, 8),\n",
       " (1683, 10),\n",
       " (1698, 10),\n",
       " (1700, 5),\n",
       " (1713, 6),\n",
       " (1716, 5),\n",
       " (1730, 5),\n",
       " (1732, 5),\n",
       " (1734, 12),\n",
       " (1740, 5),\n",
       " (1742, 5),\n",
       " (1758, 6),\n",
       " (1762, 5),\n",
       " (1809, 5),\n",
       " (1858, 16),\n",
       " (1885, 5),\n",
       " (1889, 5),\n",
       " (1949, 8),\n",
       " (2025, 8),\n",
       " (2112, 5),\n",
       " (2134, 5),\n",
       " (2170, 6),\n",
       " (2210, 8),\n",
       " (2212, 6),\n",
       " (2225, 6),\n",
       " (2233, 13),\n",
       " (2256, 6),\n",
       " (2274, 5),\n",
       " (2275, 8),\n",
       " (2295, 5),\n",
       " (2296, 27),\n",
       " (2302, 5),\n",
       " (2306, 5),\n",
       " (2307, 6),\n",
       " (2311, 5),\n",
       " (2313, 6),\n",
       " (2316, 8),\n",
       " (2317, 10),\n",
       " (2322, 5),\n",
       " (2342, 5),\n",
       " (2347, 8),\n",
       " (2349, 5),\n",
       " (2355, 5),\n",
       " (2359, 8),\n",
       " (2367, 12),\n",
       " (2378, 5),\n",
       " (2379, 5),\n",
       " (2381, 8),\n",
       " (2386, 13),\n",
       " (2387, 6),\n",
       " (2389, 5),\n",
       " (2419, 5),\n",
       " (2420, 13),\n",
       " (2434, 16),\n",
       " (2440, 8),\n",
       " (2443, 5),\n",
       " (2458, 6),\n",
       " (2460, 6),\n",
       " (2464, 13),\n",
       " (2469, 19),\n",
       " (2473, 8),\n",
       " (2483, 6),\n",
       " (2486, 19),\n",
       " (2487, 5),\n",
       " (2495, 13),\n",
       " (2497, 12),\n",
       " (2511, 15),\n",
       " (2513, 5),\n",
       " (2517, 12),\n",
       " (2546, 10),\n",
       " (2552, 5),\n",
       " (2553, 6),\n",
       " (2559, 6),\n",
       " (2570, 6),\n",
       " (2575, 6),\n",
       " (2576, 6),\n",
       " (2583, 5),\n",
       " (2589, 12),\n",
       " (2592, 10),\n",
       " (2597, 6),\n",
       " (2599, 6),\n",
       " (2607, 10),\n",
       " (2608, 5),\n",
       " (2610, 6),\n",
       " (2619, 5),\n",
       " (2629, 8),\n",
       " (2636, 8),\n",
       " (2638, 5),\n",
       " (2639, 13),\n",
       " (2643, 5),\n",
       " (2648, 9),\n",
       " (2649, 8),\n",
       " (2651, 6),\n",
       " (2694, 8),\n",
       " (2695, 6),\n",
       " (2699, 8),\n",
       " (2703, 8),\n",
       " (2715, 6),\n",
       " (2722, 6),\n",
       " (2723, 15),\n",
       " (2735, 12),\n",
       " (2737, 13),\n",
       " (2739, 5),\n",
       " (2750, 6),\n",
       " (2755, 12),\n",
       " (2756, 8),\n",
       " (2758, 13),\n",
       " (2760, 5),\n",
       " (2762, 8),\n",
       " (2769, 5),\n",
       " (2785, 20),\n",
       " (2786, 5),\n",
       " (2792, 5),\n",
       " (2794, 5),\n",
       " (2798, 5),\n",
       " (2799, 6),\n",
       " (2800, 10),\n",
       " (2829, 6),\n",
       " (2832, 8),\n",
       " (2833, 5),\n",
       " (2849, 8),\n",
       " (2850, 8),\n",
       " (2861, 6),\n",
       " (2863, 8),\n",
       " (2864, 22),\n",
       " (2869, 5),\n",
       " (2871, 5),\n",
       " (2874, 12),\n",
       " (2875, 14),\n",
       " (2877, 5),\n",
       " (2880, 8),\n",
       " (2882, 8),\n",
       " (2892, 5),\n",
       " (2894, 13),\n",
       " (2909, 6),\n",
       " (2915, 6),\n",
       " (2917, 8),\n",
       " (2929, 8),\n",
       " (2930, 8),\n",
       " (2942, 5),\n",
       " (2965, 5),\n",
       " (2987, 12),\n",
       " (2988, 6),\n",
       " (2989, 6),\n",
       " (2991, 5),\n",
       " (2996, 6),\n",
       " (2998, 9),\n",
       " (3006, 5),\n",
       " (3009, 6),\n",
       " (3011, 5),\n",
       " (3012, 8),\n",
       " (3017, 6),\n",
       " (3029, 5),\n",
       " (3052, 5),\n",
       " (3055, 6),\n",
       " (3069, 41),\n",
       " (3070, 15),\n",
       " (3071, 6),\n",
       " (3077, 12),\n",
       " (3080, 8),\n",
       " (3093, 5),\n",
       " (3099, 6),\n",
       " (3102, 5),\n",
       " (3108, 5),\n",
       " (3118, 12),\n",
       " (3147, 5),\n",
       " (3150, 6),\n",
       " (3165, 8),\n",
       " (3171, 5),\n",
       " (3174, 9),\n",
       " (3206, 10),\n",
       " (3214, 11),\n",
       " (3227, 6),\n",
       " (3231, 9),\n",
       " (3240, 6),\n",
       " (3245, 19),\n",
       " (3248, 8),\n",
       " (3249, 5),\n",
       " (3251, 5),\n",
       " (3257, 6),\n",
       " (3272, 5),\n",
       " (3277, 6),\n",
       " (3281, 39),\n",
       " (3285, 5),\n",
       " (3289, 8),\n",
       " (3295, 5),\n",
       " (3301, 5),\n",
       " (3308, 5),\n",
       " (3317, 5),\n",
       " (3319, 6),\n",
       " (3321, 12),\n",
       " (3322, 6),\n",
       " (3323, 5),\n",
       " (3324, 11),\n",
       " (3325, 5),\n",
       " (3329, 5),\n",
       " (3330, 13),\n",
       " (3331, 9),\n",
       " (3332, 8),\n",
       " (3335, 6),\n",
       " (3356, 8),\n",
       " (3361, 6),\n",
       " (3362, 6),\n",
       " (3363, 8),\n",
       " (3365, 5),\n",
       " (3379, 8),\n",
       " (3397, 5),\n",
       " (3398, 8),\n",
       " (3433, 6),\n",
       " (3453, 6),\n",
       " (3461, 5),\n",
       " (3466, 8),\n",
       " (3467, 8),\n",
       " (3472, 29),\n",
       " (3476, 5),\n",
       " (3477, 6),\n",
       " (3487, 8),\n",
       " (3491, 6),\n",
       " (3493, 12),\n",
       " (3494, 5),\n",
       " (3507, 5),\n",
       " (3512, 6),\n",
       " (3514, 8),\n",
       " (3516, 9),\n",
       " (3519, 5),\n",
       " (3522, 6),\n",
       " (3525, 8),\n",
       " (3536, 6),\n",
       " (3537, 5),\n",
       " (3544, 15),\n",
       " (3552, 5),\n",
       " (3554, 10),\n",
       " (3557, 12),\n",
       " (3559, 8),\n",
       " (3561, 5),\n",
       " (3563, 8),\n",
       " (3566, 6),\n",
       " (3567, 8),\n",
       " (3574, 5),\n",
       " (3581, 8),\n",
       " (3585, 5),\n",
       " (3589, 5),\n",
       " (3593, 13),\n",
       " (3595, 8),\n",
       " (3604, 51),\n",
       " (3608, 6),\n",
       " (3610, 14),\n",
       " (3611, 6),\n",
       " (3612, 5),\n",
       " (3615, 5),\n",
       " (3626, 8),\n",
       " (3632, 5),\n",
       " (3635, 6),\n",
       " (3643, 6),\n",
       " (3652, 13),\n",
       " (3659, 5),\n",
       " (3661, 6),\n",
       " (3662, 8),\n",
       " (3672, 8),\n",
       " (3673, 13),\n",
       " (3676, 6),\n",
       " (3681, 5),\n",
       " (3684, 8),\n",
       " (3686, 8),\n",
       " (3687, 5),\n",
       " (3690, 8),\n",
       " (3691, 5),\n",
       " (3692, 5),\n",
       " (3696, 5),\n",
       " (3701, 15),\n",
       " (3702, 6),\n",
       " (3703, 17),\n",
       " (3705, 8),\n",
       " (3706, 8),\n",
       " (3718, 6),\n",
       " (3720, 5),\n",
       " (3725, 13),\n",
       " (3734, 22),\n",
       " (3735, 5),\n",
       " (3749, 10),\n",
       " (3754, 6),\n",
       " (3756, 8),\n",
       " (3760, 8),\n",
       " (3761, 8),\n",
       " (3762, 6),\n",
       " (3765, 5),\n",
       " (3767, 5),\n",
       " (3768, 5),\n",
       " (3771, 6),\n",
       " (3773, 6),\n",
       " (3775, 5),\n",
       " (3782, 5),\n",
       " (3785, 8),\n",
       " (3788, 6),\n",
       " (3789, 5),\n",
       " (3790, 13),\n",
       " (3792, 8),\n",
       " (3793, 8),\n",
       " (3797, 5),\n",
       " (3799, 8),\n",
       " (3803, 6),\n",
       " (3805, 5),\n",
       " (3808, 6),\n",
       " (3815, 15),\n",
       " (3816, 5),\n",
       " (3820, 6),\n",
       " (3823, 8),\n",
       " (3824, 8),\n",
       " (3828, 8),\n",
       " (3831, 8),\n",
       " (3845, 5),\n",
       " (3847, 11),\n",
       " (3853, 5),\n",
       " (3854, 8),\n",
       " (3859, 5),\n",
       " (3862, 6),\n",
       " (3864, 8),\n",
       " (3865, 6),\n",
       " (3869, 6),\n",
       " (3870, 5),\n",
       " (3871, 6),\n",
       " (3872, 5),\n",
       " (3874, 5),\n",
       " (3880, 40),\n",
       " (3882, 5),\n",
       " (3883, 8),\n",
       " (3885, 6),\n",
       " (3887, 6),\n",
       " (3889, 5),\n",
       " (3890, 8),\n",
       " (3891, 8),\n",
       " (3897, 6),\n",
       " (3903, 6),\n",
       " (3912, 5),\n",
       " (3914, 5),\n",
       " (3918, 13),\n",
       " (3920, 10),\n",
       " (3925, 13),\n",
       " (3936, 6),\n",
       " (3939, 6),\n",
       " (3945, 5),\n",
       " (3951, 8),\n",
       " (3954, 16),\n",
       " (3959, 6),\n",
       " (3960, 6),\n",
       " (3964, 5),\n",
       " (3977, 5),\n",
       " (3978, 5),\n",
       " (3980, 14),\n",
       " (3981, 11),\n",
       " (3986, 5),\n",
       " (3989, 5),\n",
       " (3990, 8),\n",
       " (3993, 6),\n",
       " (3995, 5),\n",
       " (3996, 10),\n",
       " (3997, 5),\n",
       " (3998, 5),\n",
       " (4005, 8),\n",
       " (4007, 15),\n",
       " (4013, 5),\n",
       " (4014, 6),\n",
       " (4018, 6),\n",
       " (4021, 5),\n",
       " (4029, 8),\n",
       " (4030, 6),\n",
       " (4042, 15),\n",
       " (4055, 5),\n",
       " (4057, 6),\n",
       " (4059, 10),\n",
       " (4060, 5),\n",
       " (4071, 6),\n",
       " (4083, 5),\n",
       " (4085, 10),\n",
       " (4087, 6),\n",
       " (4094, 8),\n",
       " (4100, 12),\n",
       " (4101, 11),\n",
       " (4108, 8),\n",
       " (4109, 6),\n",
       " (4110, 5),\n",
       " (4111, 5),\n",
       " (4116, 6),\n",
       " (4121, 8),\n",
       " (4123, 6),\n",
       " (4124, 17),\n",
       " (4145, 10),\n",
       " (4153, 10),\n",
       " (4161, 6),\n",
       " (4163, 8),\n",
       " (4165, 15),\n",
       " (4166, 5),\n",
       " (4168, 10),\n",
       " (4173, 5),\n",
       " (4176, 5),\n",
       " (4179, 5),\n",
       " (4187, 8),\n",
       " (4189, 8),\n",
       " (4198, 87),\n",
       " (4201, 5),\n",
       " (4202, 15),\n",
       " (4207, 12),\n",
       " (4209, 5),\n",
       " (4211, 6),\n",
       " (4229, 5),\n",
       " (4236, 8),\n",
       " (4240, 6),\n",
       " (4242, 5),\n",
       " (4243, 6),\n",
       " (4256, 8),\n",
       " (4268, 5),\n",
       " (4284, 5),\n",
       " (4297, 6),\n",
       " (4304, 9),\n",
       " (4305, 6),\n",
       " (4320, 5),\n",
       " (4321, 26),\n",
       " (4322, 19),\n",
       " (4335, 8),\n",
       " (4340, 8),\n",
       " (4341, 8),\n",
       " (4348, 8),\n",
       " (4349, 5),\n",
       " (4356, 6),\n",
       " (4359, 5),\n",
       " (4369, 6),\n",
       " (4374, 5),\n",
       " (4375, 16),\n",
       " (4388, 9),\n",
       " (4390, 6),\n",
       " (4391, 10),\n",
       " (4392, 12),\n",
       " (4393, 10),\n",
       " (4400, 15),\n",
       " (4403, 8),\n",
       " (4404, 15),\n",
       " (4405, 6),\n",
       " (4410, 8),\n",
       " (4418, 15),\n",
       " (4423, 13),\n",
       " (4432, 5),\n",
       " (4435, 8),\n",
       " (4436, 6),\n",
       " (4447, 5),\n",
       " (4449, 6),\n",
       " (4450, 13),\n",
       " (4452, 5),\n",
       " (4457, 15),\n",
       " (4460, 18),\n",
       " (4462, 6),\n",
       " (4466, 8),\n",
       " (4471, 8),\n",
       " (4472, 29),\n",
       " (4478, 8),\n",
       " (4484, 8),\n",
       " (4487, 6),\n",
       " (4491, 5),\n",
       " (4503, 6),\n",
       " (4505, 26),\n",
       " (4508, 5),\n",
       " (4512, 5),\n",
       " (4515, 6),\n",
       " (4517, 6),\n",
       " (4518, 6),\n",
       " (4519, 6),\n",
       " (4531, 10),\n",
       " (4538, 5),\n",
       " (4561, 8),\n",
       " (4563, 10),\n",
       " (4564, 5),\n",
       " (4568, 6),\n",
       " (4569, 10),\n",
       " (4575, 6),\n",
       " (4577, 5),\n",
       " (4579, 6),\n",
       " (4581, 6),\n",
       " (4585, 5),\n",
       " (4587, 5),\n",
       " (4590, 11),\n",
       " (4591, 5),\n",
       " (4602, 8),\n",
       " (4604, 8),\n",
       " (4607, 15),\n",
       " (4613, 22),\n",
       " (4617, 5),\n",
       " (4626, 18),\n",
       " (4644, 5),\n",
       " (4651, 8),\n",
       " (4667, 12),\n",
       " (4674, 5),\n",
       " (4675, 8),\n",
       " (4676, 6),\n",
       " (4677, 9),\n",
       " (4685, 24),\n",
       " (4686, 11),\n",
       " (4688, 6),\n",
       " (4700, 5),\n",
       " (4701, 8),\n",
       " (4710, 6),\n",
       " (4717, 6),\n",
       " (4720, 6),\n",
       " (4724, 6),\n",
       " (4728, 8),\n",
       " (4736, 12),\n",
       " (4737, 6),\n",
       " (4742, 22),\n",
       " (4750, 8),\n",
       " (4757, 8),\n",
       " (4763, 5),\n",
       " (4766, 6),\n",
       " (4767, 6),\n",
       " (4771, 6),\n",
       " (4772, 6),\n",
       " (4779, 6),\n",
       " (4780, 6),\n",
       " (4782, 5),\n",
       " (4784, 5),\n",
       " (4785, 6),\n",
       " (4789, 12),\n",
       " (4799, 8),\n",
       " (4801, 5),\n",
       " (4808, 8),\n",
       " (4841, 6),\n",
       " (4842, 6),\n",
       " (4847, 11),\n",
       " (4858, 6),\n",
       " (4859, 5),\n",
       " (4860, 8),\n",
       " (4876, 24),\n",
       " (4891, 6),\n",
       " (4892, 6),\n",
       " (4893, 6),\n",
       " (4897, 6),\n",
       " (4909, 6),\n",
       " (4914, 6),\n",
       " (4919, 6),\n",
       " (4920, 8),\n",
       " (4921, 5),\n",
       " (4924, 6),\n",
       " (4925, 5),\n",
       " (4926, 8),\n",
       " (4928, 8),\n",
       " (4936, 13),\n",
       " (4951, 5),\n",
       " (4968, 12),\n",
       " (4977, 9),\n",
       " (4978, 8),\n",
       " (4993, 8),\n",
       " (5002, 5),\n",
       " (5018, 13),\n",
       " (5023, 5),\n",
       " (5027, 8),\n",
       " (5040, 5),\n",
       " (5058, 15),\n",
       " (5060, 8),\n",
       " (5069, 10),\n",
       " (5074, 6),\n",
       " (5077, 15),\n",
       " (5093, 8),\n",
       " (5102, 5),\n",
       " (5106, 6),\n",
       " (5117, 15),\n",
       " (5125, 8),\n",
       " (5128, 5),\n",
       " (5129, 15),\n",
       " (5130, 6),\n",
       " (5143, 10),\n",
       " (5144, 6),\n",
       " (5149, 8),\n",
       " (5150, 8),\n",
       " (5152, 13),\n",
       " (5153, 8),\n",
       " (5156, 8),\n",
       " (5158, 13),\n",
       " (5159, 5),\n",
       " (5160, 6),\n",
       " (5163, 8),\n",
       " (5165, 5),\n",
       " (5167, 22),\n",
       " (5173, 8),\n",
       " (5186, 6),\n",
       " (5187, 6),\n",
       " (5192, 8),\n",
       " (5196, 6),\n",
       " (5198, 15),\n",
       " (5202, 6),\n",
       " (5204, 6),\n",
       " (5206, 5),\n",
       " (5212, 8),\n",
       " (5214, 8),\n",
       " (5218, 5),\n",
       " (5219, 13),\n",
       " (5224, 5),\n",
       " (5232, 6),\n",
       " (5233, 5),\n",
       " (5242, 5),\n",
       " (5245, 5),\n",
       " (5256, 6),\n",
       " (5275, 6),\n",
       " (5286, 8),\n",
       " (5288, 6),\n",
       " (5290, 5),\n",
       " (5298, 5),\n",
       " (5304, 8),\n",
       " (5306, 5),\n",
       " (5307, 10),\n",
       " (5325, 5),\n",
       " (5327, 8),\n",
       " (5331, 8),\n",
       " (5342, 8),\n",
       " (5353, 16),\n",
       " (5355, 8),\n",
       " (5363, 5),\n",
       " (5366, 5),\n",
       " (5373, 5),\n",
       " (5377, 5),\n",
       " (5380, 8),\n",
       " (5388, 6),\n",
       " (5391, 5),\n",
       " (5396, 34),\n",
       " (5414, 6),\n",
       " (5426, 8),\n",
       " (5427, 13),\n",
       " (5430, 9),\n",
       " (5432, 8),\n",
       " (5436, 5),\n",
       " (5441, 5),\n",
       " (5446, 6),\n",
       " (5447, 5),\n",
       " (5451, 6),\n",
       " (5453, 8),\n",
       " (5456, 6),\n",
       " (5466, 12),\n",
       " (5467, 6),\n",
       " (5478, 5),\n",
       " (5482, 13),\n",
       " (5483, 8),\n",
       " (5488, 13),\n",
       " (5493, 5),\n",
       " (5496, 8),\n",
       " (5499, 5),\n",
       " (5500, 5),\n",
       " (5505, 6),\n",
       " (5520, 6),\n",
       " (5521, 10),\n",
       " (5526, 6),\n",
       " (5527, 5),\n",
       " (5532, 6),\n",
       " (5538, 5),\n",
       " (5540, 8),\n",
       " (5542, 5),\n",
       " (5547, 34),\n",
       " (5559, 8),\n",
       " (5561, 8),\n",
       " (5575, 5),\n",
       " (5577, 6),\n",
       " (5578, 8),\n",
       " (5579, 5),\n",
       " (5584, 5),\n",
       " (5588, 6),\n",
       " (5591, 5),\n",
       " (5611, 6),\n",
       " (5615, 8),\n",
       " (5618, 8),\n",
       " (5625, 5),\n",
       " (5630, 5),\n",
       " (5631, 6),\n",
       " (5632, 8),\n",
       " (5637, 8),\n",
       " (5643, 8),\n",
       " (5652, 6),\n",
       " (5655, 8),\n",
       " (5658, 8),\n",
       " (5664, 5),\n",
       " (5670, 8),\n",
       " (5671, 6),\n",
       " (5687, 5),\n",
       " (5692, 6),\n",
       " (5698, 6),\n",
       " (5700, 58),\n",
       " (5702, 10),\n",
       " (5703, 5),\n",
       " (5706, 5),\n",
       " (5710, 5),\n",
       " (5714, 6),\n",
       " (5716, 12),\n",
       " (5720, 8),\n",
       " (5724, 5),\n",
       " (5732, 5),\n",
       " (5741, 8),\n",
       " (5743, 5),\n",
       " (5746, 6),\n",
       " (5777, 8),\n",
       " (5778, 5),\n",
       " (5795, 5),\n",
       " (5805, 18),\n",
       " (5806, 8),\n",
       " (5810, 6),\n",
       " (5811, 8),\n",
       " (5815, 5),\n",
       " (5826, 6),\n",
       " (5831, 13),\n",
       " (5832, 6),\n",
       " (5834, 8),\n",
       " (5857, 6),\n",
       " (5864, 12),\n",
       " (5869, 8),\n",
       " (5871, 6),\n",
       " (5875, 5),\n",
       " (5882, 17),\n",
       " (5883, 8),\n",
       " (5908, 11),\n",
       " (5910, 6),\n",
       " (5918, 5),\n",
       " (5921, 5),\n",
       " (5924, 8),\n",
       " (5928, 6),\n",
       " (5930, 17),\n",
       " (5931, 6),\n",
       " (5932, 8),\n",
       " (5934, 17),\n",
       " (5935, 12),\n",
       " (5937, 16),\n",
       " (5949, 5),\n",
       " (5956, 6),\n",
       " (5957, 5),\n",
       " (5959, 8),\n",
       " (5964, 5),\n",
       " (5971, 22),\n",
       " (5977, 5),\n",
       " (5979, 6),\n",
       " (5980, 8),\n",
       " (5987, 5),\n",
       " ...]"
      ]
     },
     "execution_count": 97,
     "metadata": {},
     "output_type": "execute_result"
    }
   ],
   "source": [
    "def deportistaMedallas(resultadoGanador, valoresMedallas):\n",
    "    \"\"\"Obtiene la cantidad de Puntos por medallas de los depostistas Olimpicos\"\"\"\n",
    "    #Obtengo el header del RDD\n",
    "    headerMedallas = resultadoGanador \\\n",
    "            .map(lambda x: (x[2], valoresMedallas.get(x[1], 'Medallas')))\\\n",
    "            .filter(lambda x: x[1] == 'Medallas')\n",
    "    \n",
    "    # Obtengo y proceso la data numerica del RDD\n",
    "    deportistaData = resultadoGanador \\\n",
    "        .map(lambda x: (x[2], valoresMedallas.get(x[1], 'Medallas')))\\\n",
    "        .filter(lambda x: x[1] != 'Medallas') \\\n",
    "        .map(lambda x: [int(x[0]), int(x[1])])\\\n",
    "        .foldByKey(1, add) \\\n",
    "        .sortBy(lambda x: x[0])\n",
    "    \n",
    "    \n",
    "    deportistaMedallas = headerMedallas + deportistaData\n",
    "  \n",
    "    return deportistaMedallas\n",
    "\n",
    "deportistaMedallas = deportistaMedallas(resultadoGanador, valoresMedallas)\n",
    "deportistaMedallas.collect()"
   ]
  },
  {
   "cell_type": "code",
   "execution_count": 151,
   "metadata": {},
   "outputs": [
    {
     "data": {
      "text/plain": [
       "[['AUT', 1],\n",
       " ['MEX', 2],\n",
       " ['MEX', 3],\n",
       " ['ARG', 4],\n",
       " ['AFG', 5],\n",
       " ['IRL', 6],\n",
       " ['SUI', 7],\n",
       " ['ALB', 8],\n",
       " ['POR', 9],\n",
       " ['FRA', 10]]"
      ]
     },
     "execution_count": 151,
     "metadata": {},
     "output_type": "execute_result"
    }
   ],
   "source": [
    "def paisesEquipos(equiposOlimpicosRDD):\n",
    "    \"\"\"Obtiene el performance por Equipo\"\"\"\n",
    "#     header = sc.parallelize([('Pais', 'equipo_id')])   \n",
    "    \n",
    "    paisesEquipos = equiposOlimpicosRDD \\\n",
    "                        .map(lambda x: [x[-1], x[0]]) \\\n",
    "                        .filter(lambda x: x[1] != 'id') \\\n",
    "                        .map(lambda x: [x[0], int(x[1])])\\\n",
    "\n",
    "    \n",
    "    paisesEquipos =  paisesEquipos\n",
    "    \n",
    "    return paisesEquipos\n",
    "\n",
    "paisesEquipos = paisesEquipos(equiposOlimpicosRDD)\n",
    "paisesEquipos.take(10)"
   ]
  },
  {
   "cell_type": "code",
   "execution_count": 152,
   "metadata": {},
   "outputs": [
    {
     "data": {
      "text/plain": [
       "[[1, 199],\n",
       " [2, 199],\n",
       " [3, 273],\n",
       " [4, 278],\n",
       " [5, 705],\n",
       " [6, 1096],\n",
       " [7, 1096],\n",
       " [8, 705],\n",
       " [9, 350],\n",
       " [10, 350]]"
      ]
     },
     "execution_count": 152,
     "metadata": {},
     "output_type": "execute_result"
    }
   ],
   "source": [
    "def performanceEquipos(deportistaMedallas, deportistaOlimpicoRDD):\n",
    "#     header = sc.parallelize([('deportista_id', 'equipo_id')])  \n",
    "    \n",
    "    equipos = deportistaOlimpicoRDD \\\n",
    "                .map(lambda x: [x[0], x[6]]) \\\n",
    "                .filter(lambda x: x[0] != 'deportista_id') \\\n",
    "                .map(lambda x: [int(x[0]), int(x[1])]) \\\n",
    "\n",
    "    \n",
    "#     performance = equipos.join(deportistaMedallas)\n",
    "#                     .join(deportistaOlimpicoRDD) \\\n",
    "#                     .map(lambda x: (x[1][1], x[0], x[1][0])) \\\n",
    "\n",
    "    performanceEquipos = equipos\n",
    "    \n",
    "    return performanceEquipos\n",
    "\n",
    "performanceEquipos = performanceEquipos(deportistaMedallas, deportistaOlimpicoRDD)\n",
    "performanceEquipos.take(10)\n",
    " "
   ]
  }
 ],
 "metadata": {
  "kernelspec": {
   "display_name": "Python 3",
   "language": "python",
   "name": "python3"
  },
  "language_info": {
   "codemirror_mode": {
    "name": "ipython",
    "version": 3
   },
   "file_extension": ".py",
   "mimetype": "text/x-python",
   "name": "python",
   "nbconvert_exporter": "python",
   "pygments_lexer": "ipython3",
   "version": "3.7.9"
  }
 },
 "nbformat": 4,
 "nbformat_minor": 4
}
